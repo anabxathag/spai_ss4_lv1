{
  "nbformat": 4,
  "nbformat_minor": 0,
  "metadata": {
    "colab": {
      "provenance": [],
      "collapsed_sections": [
        "7l9k2HBv2gZK",
        "gYZTlqKP2mQq",
        "BkSeW7hf2qrp",
        "juZB48E4X9jJ",
        "o4ZYg4MAc7CA",
        "wnj8TWAZblog",
        "cnx9M1badVNu",
        "ZQGNmuQP3u34",
        "7gwuLMY933pm",
        "fO2SoVP7elxI",
        "oJP2GXUJkY66",
        "9N0gGlwRpOlY"
      ],
      "toc_visible": true
    },
    "kernelspec": {
      "name": "python3",
      "display_name": "Python 3"
    },
    "language_info": {
      "name": "python"
    }
  },
  "cells": [
    {
      "cell_type": "code",
      "source": [
        "\n",
        "# IMPORTANT: RUN THIS CELL IN ORDER TO IMPORT YOUR KAGGLE DATA SOURCES\n",
        "# TO THE CORRECT LOCATION (/kaggle/input) IN YOUR NOTEBOOK,\n",
        "# THEN FEEL FREE TO DELETE THIS CELL.\n",
        "# NOTE: THIS NOTEBOOK ENVIRONMENT DIFFERS FROM KAGGLE'S PYTHON\n",
        "# ENVIRONMENT SO THERE MAY BE MISSING LIBRARIES USED BY YOUR\n",
        "# NOTEBOOK.\n",
        "\n",
        "import os\n",
        "import sys\n",
        "from tempfile import NamedTemporaryFile\n",
        "from urllib.request import urlopen\n",
        "from urllib.parse import unquote, urlparse\n",
        "from urllib.error import HTTPError\n",
        "from zipfile import ZipFile\n",
        "import tarfile\n",
        "import shutil\n",
        "\n",
        "CHUNK_SIZE = 40960\n",
        "DATA_SOURCE_MAPPING = 'farm-connect-soil-water-content-prediction:https%3A%2F%2Fstorage.googleapis.com%2Fkaggle-competitions-data%2Fkaggle-v2%2F68435%2F7600466%2Fbundle%2Farchive.zip%3FX-Goog-Algorithm%3DGOOG4-RSA-SHA256%26X-Goog-Credential%3Dgcp-kaggle-com%2540kaggle-161607.iam.gserviceaccount.com%252F20240223%252Fauto%252Fstorage%252Fgoog4_request%26X-Goog-Date%3D20240223T181949Z%26X-Goog-Expires%3D259200%26X-Goog-SignedHeaders%3Dhost%26X-Goog-Signature%3D62cf01db165247f16cf729fe3faa674266f9233c80fd46af0841da0b93c9171cc6f93511021be3cb2f87835857848e67ed3e3e77bbf031f220255349ff01c0355b4677dfacdc59a8be0bcf7552433b2d3f776bb156a8613d026db4975d3dfee41602b69cf503a2d1925bc1f9ac2106a99e0eaebc2a1b4a6087bc8ae811712a546aa9ff39e3ea8aa106ef22c098f80e292e99131f1b709a5b746643f6267b9d56d4cf6e802ded33a76d5b460ce96942a781587d9cbd2653d89c61d06aa6d34c290d525bf7f0b0c7bf4f3b82295a4a0ce7f5ebf031021e77af92d028c15c2f48aa85da5bcc0244b450aa2312a8577b478110068c5d5225ad4badbc48e282dac604'\n",
        "\n",
        "KAGGLE_INPUT_PATH='/kaggle/input'\n",
        "KAGGLE_WORKING_PATH='/kaggle/working'\n",
        "KAGGLE_SYMLINK='kaggle'\n",
        "\n",
        "!umount /kaggle/input/ 2> /dev/null\n",
        "shutil.rmtree('/kaggle/input', ignore_errors=True)\n",
        "os.makedirs(KAGGLE_INPUT_PATH, 0o777, exist_ok=True)\n",
        "os.makedirs(KAGGLE_WORKING_PATH, 0o777, exist_ok=True)\n",
        "\n",
        "try:\n",
        "  os.symlink(KAGGLE_INPUT_PATH, os.path.join(\"..\", 'input'), target_is_directory=True)\n",
        "except FileExistsError:\n",
        "  pass\n",
        "try:\n",
        "  os.symlink(KAGGLE_WORKING_PATH, os.path.join(\"..\", 'working'), target_is_directory=True)\n",
        "except FileExistsError:\n",
        "  pass\n",
        "\n",
        "for data_source_mapping in DATA_SOURCE_MAPPING.split(','):\n",
        "    directory, download_url_encoded = data_source_mapping.split(':')\n",
        "    download_url = unquote(download_url_encoded)\n",
        "    filename = urlparse(download_url).path\n",
        "    destination_path = os.path.join(KAGGLE_INPUT_PATH, directory)\n",
        "    try:\n",
        "        with urlopen(download_url) as fileres, NamedTemporaryFile() as tfile:\n",
        "            total_length = fileres.headers['content-length']\n",
        "            print(f'Downloading {directory}, {total_length} bytes compressed')\n",
        "            dl = 0\n",
        "            data = fileres.read(CHUNK_SIZE)\n",
        "            while len(data) > 0:\n",
        "                dl += len(data)\n",
        "                tfile.write(data)\n",
        "                done = int(50 * dl / int(total_length))\n",
        "                sys.stdout.write(f\"\\r[{'=' * done}{' ' * (50-done)}] {dl} bytes downloaded\")\n",
        "                sys.stdout.flush()\n",
        "                data = fileres.read(CHUNK_SIZE)\n",
        "            if filename.endswith('.zip'):\n",
        "              with ZipFile(tfile) as zfile:\n",
        "                zfile.extractall(destination_path)\n",
        "            else:\n",
        "              with tarfile.open(tfile.name) as tarfile:\n",
        "                tarfile.extractall(destination_path)\n",
        "            print(f'\\nDownloaded and uncompressed: {directory}')\n",
        "    except HTTPError as e:\n",
        "        print(f'Failed to load (likely expired) {download_url} to path {destination_path}')\n",
        "        continue\n",
        "    except OSError as e:\n",
        "        print(f'Failed to load {download_url} to path {destination_path}')\n",
        "        continue\n",
        "\n",
        "print('Data source import complete.')\n"
      ],
      "metadata": {
        "id": "RaXYas_Vy74i"
      },
      "execution_count": null,
      "outputs": []
    },
    {
      "cell_type": "code",
      "source": [
        "import numpy as np\n",
        "import pandas as pd\n",
        "import seaborn as sns\n",
        "import matplotlib.pyplot as plt\n",
        "import seaborn as sns"
      ],
      "metadata": {
        "id": "ds2SHcCvy7zi"
      },
      "execution_count": null,
      "outputs": []
    },
    {
      "cell_type": "code",
      "source": [
        "!pip install --upgrade scikit-learn\n",
        "!pip install pycaret"
      ],
      "metadata": {
        "id": "ToaC9k4wzJyZ"
      },
      "execution_count": null,
      "outputs": []
    },
    {
      "cell_type": "code",
      "source": [
        "!pip install --upgrade scipy"
      ],
      "metadata": {
        "id": "7Od7ZBunzJva"
      },
      "execution_count": null,
      "outputs": []
    },
    {
      "cell_type": "code",
      "source": [
        "from pycaret.regression import *"
      ],
      "metadata": {
        "id": "RFHVYbgbzJrz"
      },
      "execution_count": null,
      "outputs": []
    },
    {
      "cell_type": "code",
      "source": [
        "import sklearn.model_selection\n",
        "import sklearn.metrics\n",
        "import os\n",
        "from sklearn.ensemble import RandomForestRegressor\n",
        "from sklearn.feature_selection import RFECV\n",
        "import xgboost as xgb\n",
        "from sklearn.model_selection import GridSearchCV"
      ],
      "metadata": {
        "id": "EbGNaWPdy7v6"
      },
      "execution_count": null,
      "outputs": []
    },
    {
      "cell_type": "code",
      "source": [
        "import warnings\n",
        "warnings.filterwarnings('ignore')\n",
        "warnings.simplefilter('ignore')"
      ],
      "metadata": {
        "id": "rSNoFn5yzVfC"
      },
      "execution_count": null,
      "outputs": []
    },
    {
      "cell_type": "markdown",
      "source": [
        "# Data Preprocessing"
      ],
      "metadata": {
        "id": "t4g9dvYkze-x"
      }
    },
    {
      "cell_type": "code",
      "source": [
        "def plot_distribution(df):\n",
        "    # Determine the number of rows needed for subplots\n",
        "    num_plots = len(df.columns)\n",
        "    num_rows = (num_plots + 2) // 3  # Ensure even distribution of plots\n",
        "\n",
        "    # Create a figure and axes for subplots\n",
        "    fig, axes = plt.subplots(num_rows, 3, figsize=(15, 5*num_rows))\n",
        "\n",
        "    # Flatten axes if only one row\n",
        "    if num_rows == 1:\n",
        "        axes = axes.reshape(1, -1)\n",
        "\n",
        "    # Iterate over each column in the DataFrame\n",
        "    for i, col in enumerate(df.columns):\n",
        "        # Calculate subplot index\n",
        "        row_idx = i // 3\n",
        "        col_idx = i % 3\n",
        "\n",
        "        # Create a seaborn histogram plot for the column\n",
        "        sns.histplot(df[col], kde=True, ax=axes[row_idx, col_idx])\n",
        "        # Add a title with the column name\n",
        "        axes[row_idx, col_idx].set_title(f'Distribution of {col}')\n",
        "\n",
        "    # Adjust layout to prevent overlap\n",
        "    plt.tight_layout()\n",
        "    # Show the plot\n",
        "    plt.show()\n"
      ],
      "metadata": {
        "id": "ikKyRRHR1DmV"
      },
      "execution_count": null,
      "outputs": []
    },
    {
      "cell_type": "markdown",
      "source": [
        "## Train"
      ],
      "metadata": {
        "id": "eYDHKQTfzhCS"
      }
    },
    {
      "cell_type": "code",
      "source": [
        "df = []\n",
        "src = '/kaggle/input/farm-connect-soil-water-content-prediction/train/train'\n",
        "for file in os.listdir(src):\n",
        "    df.append(pd.read_csv(os.path.join(src, file)))\n",
        "df = pd.concat(df)\n",
        "df.shape"
      ],
      "metadata": {
        "id": "-Niu4pZmzVbq"
      },
      "execution_count": null,
      "outputs": []
    },
    {
      "cell_type": "code",
      "source": [
        "df = df[['1Air Humidity', '1AirTemperature', '1LightHigh',\n",
        "       '1LightLow',  '12WindSpeed','13WindDirection', '23SoilWC ค.ชื้นดิน', '23SoilTemp.อุณหภูมิดิน',\n",
        "       '23SoilEC', '23SoilpH', '26N', '26P', '26K', '29SoilTension', 'flow1']]"
      ],
      "metadata": {
        "id": "nRCqbBty1DjS"
      },
      "execution_count": null,
      "outputs": []
    },
    {
      "cell_type": "markdown",
      "source": [
        "### Outliers"
      ],
      "metadata": {
        "id": "QpeeJFPo2b95"
      }
    },
    {
      "cell_type": "code",
      "source": [
        "z_scores = (df - df.mean()) / df.std()\n",
        "outliers = (z_scores > 3) | (z_scores < -3)\n",
        "df = df[~outliers.any(axis=1)]\n",
        "df.shape"
      ],
      "metadata": {
        "id": "ymzN9FWZ2FRR"
      },
      "execution_count": null,
      "outputs": []
    },
    {
      "cell_type": "markdown",
      "source": [
        "### Missing Values"
      ],
      "metadata": {
        "id": "7l9k2HBv2gZK"
      }
    },
    {
      "cell_type": "code",
      "source": [
        "df[['23SoilWC ค.ชื้นดิน']].isnull().sum()"
      ],
      "metadata": {
        "id": "0uoaatj_2NtS"
      },
      "execution_count": null,
      "outputs": []
    },
    {
      "cell_type": "code",
      "source": [
        "df.dropna(subset=['23SoilWC ค.ชื้นดิน'], inplace=True)\n",
        "df.shape"
      ],
      "metadata": {
        "id": "3u56CJIB2QUa"
      },
      "execution_count": null,
      "outputs": []
    },
    {
      "cell_type": "code",
      "source": [
        "df_means = df.mean(numeric_only=True)\n",
        "df.fillna(df_means, inplace=True)"
      ],
      "metadata": {
        "id": "n_gOqmlm2Zzy"
      },
      "execution_count": null,
      "outputs": []
    },
    {
      "cell_type": "code",
      "source": [
        "df.isnull().sum()"
      ],
      "metadata": {
        "id": "5HtGvVCeScgZ"
      },
      "execution_count": null,
      "outputs": []
    },
    {
      "cell_type": "code",
      "source": [
        "df.reset_index(drop=True, inplace=True)"
      ],
      "metadata": {
        "id": "3OjEvLa7fTRx"
      },
      "execution_count": null,
      "outputs": []
    },
    {
      "cell_type": "markdown",
      "source": [
        "### EDA_1"
      ],
      "metadata": {
        "id": "uI7QKGrC2v3R"
      }
    },
    {
      "cell_type": "code",
      "source": [
        "plot_distribution(df.drop(['23SoilWC ค.ชื้นดิน'], axis=1))"
      ],
      "metadata": {
        "id": "tih8kY042yTu"
      },
      "execution_count": null,
      "outputs": []
    },
    {
      "cell_type": "code",
      "source": [
        "plt.figure(figsize=(12, 8))\n",
        "sns.heatmap((df.drop(['23SoilWC ค.ชื้นดิน'], axis=1)).corr(), annot=True, cmap='coolwarm', fmt=\".2f\", linewidths=0.5)\n",
        "plt.title('Heatmap of Correlation Matrix')\n",
        "plt.show()"
      ],
      "metadata": {
        "id": "GN3kbk-z2yZH"
      },
      "execution_count": null,
      "outputs": []
    },
    {
      "cell_type": "markdown",
      "source": [
        "### Scaler"
      ],
      "metadata": {
        "id": "gYZTlqKP2mQq"
      }
    },
    {
      "cell_type": "code",
      "source": [
        "df.head()"
      ],
      "metadata": {
        "id": "_iofdv9H4cuh"
      },
      "execution_count": null,
      "outputs": []
    },
    {
      "cell_type": "code",
      "source": [
        "from sklearn.preprocessing import StandardScaler\n",
        "\n",
        "scaler = StandardScaler()\n",
        "df[['1Air Humidity', '1AirTemperature', '1LightHigh', '1LightLow','12WindSpeed', '23SoilTemp.อุณหภูมิดิน', '23SoilEC', '23SoilpH', '26N', '26P', '26K','29SoilTension']] = scaler.fit_transform(df[['1Air Humidity', '1AirTemperature', '1LightHigh', '1LightLow','12WindSpeed', '23SoilTemp.อุณหภูมิดิน', '23SoilEC', '23SoilpH', '26N', '26P', '26K','29SoilTension']])\n",
        "df.head()"
      ],
      "metadata": {
        "id": "9zsz1fjc1ci6"
      },
      "execution_count": null,
      "outputs": []
    },
    {
      "cell_type": "markdown",
      "source": [
        "### Encoding"
      ],
      "metadata": {
        "id": "BkSeW7hf2qrp"
      }
    },
    {
      "cell_type": "code",
      "execution_count": null,
      "metadata": {
        "id": "myh2Ngn3y7Lc"
      },
      "outputs": [],
      "source": [
        "from sklearn.preprocessing import OneHotEncoder\n",
        "\n",
        "encoding_1 = OneHotEncoder()\n",
        "encoding_1.fit(np.array(df['flow1']).reshape(-1, 1))\n",
        "dummies_1 = encoding_1.transform(np.array(df['flow1']).reshape(-1, 1)).toarray()"
      ]
    },
    {
      "cell_type": "code",
      "source": [
        "cols = []\n",
        "cols.extend(df.columns)\n",
        "cols.extend(['flow_0', 'flow_ 1'])\n",
        "cols"
      ],
      "metadata": {
        "id": "DYLZhyMBWWFY"
      },
      "execution_count": null,
      "outputs": []
    },
    {
      "cell_type": "code",
      "source": [
        "df = pd.DataFrame(np.column_stack([df, dummies_1]), columns = [i for i in cols])\n",
        "df.head()"
      ],
      "metadata": {
        "id": "moRLoAuAT-NK"
      },
      "execution_count": null,
      "outputs": []
    },
    {
      "cell_type": "code",
      "source": [
        "encoding_2 = OneHotEncoder()\n",
        "encoding_2.fit(np.array(df['13WindDirection']).reshape(-1, 1))\n",
        "dummies_2 = encoding_2.transform(np.array(df['13WindDirection']).reshape(-1, 1)).toarray()\n",
        "cols.extend(['wd_0', 'wd_1','wd_2','wd_3', 'wd_4','wd_5', 'wd_6','wd_7'])"
      ],
      "metadata": {
        "id": "tTLbAmTrYRIZ"
      },
      "execution_count": null,
      "outputs": []
    },
    {
      "cell_type": "code",
      "source": [
        "df = pd.DataFrame(np.column_stack([df, dummies_2]), columns = [i for i in cols])\n",
        "df.head()"
      ],
      "metadata": {
        "id": "PmDZ6nN5YbTA"
      },
      "execution_count": null,
      "outputs": []
    },
    {
      "cell_type": "code",
      "source": [
        "df.drop([\"13WindDirection\", \"flow1\"], axis = 1, inplace=True)\n",
        "df.columns"
      ],
      "metadata": {
        "id": "8rZqYRiHZLvZ"
      },
      "execution_count": null,
      "outputs": []
    },
    {
      "cell_type": "markdown",
      "source": [
        "#### EDA_2"
      ],
      "metadata": {
        "id": "juZB48E4X9jJ"
      }
    },
    {
      "cell_type": "code",
      "source": [
        "plot_distribution(df.drop(['23SoilWC ค.ชื้นดิน'], axis=1))"
      ],
      "metadata": {
        "id": "6H-WlMqfXmTA"
      },
      "execution_count": null,
      "outputs": []
    },
    {
      "cell_type": "markdown",
      "source": [
        "### TrainVal Split"
      ],
      "metadata": {
        "id": "Pe8txmhbidj3"
      }
    },
    {
      "cell_type": "code",
      "source": [
        "from sklearn.model_selection import train_test_split\n",
        "\n",
        "X_train, X_val, y_train, y_val = train_test_split(df.drop(['23SoilWC ค.ชื้นดิน'], axis=1),\n",
        "                                                  df[['23SoilWC ค.ชื้นดิน']], test_size = 0.1, random_state = 888)\n",
        "print(\"The shape of X_train is:\", X_train.shape)\n",
        "print(\"The shape of X_val is:\", X_val.shape)\n",
        "print(\"The shape of y_train is:\", y_train.shape)\n",
        "print(\"The shape of y_val is:\", y_val.shape)"
      ],
      "metadata": {
        "id": "kGxznOD1idj4"
      },
      "execution_count": null,
      "outputs": []
    },
    {
      "cell_type": "markdown",
      "source": [
        "## Test"
      ],
      "metadata": {
        "id": "Ty43SEGPZ5MZ"
      }
    },
    {
      "cell_type": "code",
      "source": [
        "x_test = []\n",
        "for f in ['02', '09']:\n",
        "    x_test.append(\n",
        "        pd.read_csv(\n",
        "            f'/kaggle/input/farm-connect-soil-water-content-prediction/test/test/set{f}.csv'\n",
        "        )\n",
        "    )\n",
        "x_test = pd.concat(x_test)\n",
        "x_test.head()"
      ],
      "metadata": {
        "id": "g-lsgBFji6DZ"
      },
      "execution_count": null,
      "outputs": []
    },
    {
      "cell_type": "code",
      "source": [
        "x_test = x_test[['1Air Humidity', '1AirTemperature', '1LightHigh',\n",
        "       '1LightLow',  '12WindSpeed','13WindDirection', '23SoilTemp.อุณหภูมิดิน',\n",
        "       '23SoilEC', '23SoilpH', '26N', '26P', '26K', '29SoilTension', 'flow1']]\n",
        "x_test.reset_index(drop=True, inplace=True)"
      ],
      "metadata": {
        "id": "8xGCExMgi7O4"
      },
      "execution_count": null,
      "outputs": []
    },
    {
      "cell_type": "markdown",
      "source": [
        "### missing values"
      ],
      "metadata": {
        "id": "G_WznIRqaV3B"
      }
    },
    {
      "cell_type": "code",
      "source": [
        "test_means = x_test.mean(numeric_only=True)\n",
        "x_test.fillna(test_means, inplace=True)\n",
        "x_test.isnull().sum()"
      ],
      "metadata": {
        "id": "6nWg4sdxXmQA"
      },
      "execution_count": null,
      "outputs": []
    },
    {
      "cell_type": "markdown",
      "source": [
        "### EDA_1"
      ],
      "metadata": {
        "id": "o4ZYg4MAc7CA"
      }
    },
    {
      "cell_type": "code",
      "source": [
        "plot_distribution(x_test)"
      ],
      "metadata": {
        "id": "hJ3QkuLVc9go"
      },
      "execution_count": null,
      "outputs": []
    },
    {
      "cell_type": "markdown",
      "source": [
        "### Scaler"
      ],
      "metadata": {
        "id": "wnj8TWAZblog"
      }
    },
    {
      "cell_type": "code",
      "source": [
        "from sklearn.preprocessing import StandardScaler\n",
        "\n",
        "scaler = StandardScaler()\n",
        "x_test[['1Air Humidity', '1AirTemperature', '1LightHigh', '1LightLow','12WindSpeed', '23SoilTemp.อุณหภูมิดิน', '23SoilEC', '23SoilpH', '26N', '26P', '26K','29SoilTension']] = scaler.fit_transform(x_test[['1Air Humidity', '1AirTemperature', '1LightHigh', '1LightLow','12WindSpeed', '23SoilTemp.อุณหภูมิดิน', '23SoilEC', '23SoilpH', '26N', '26P', '26K','29SoilTension']])\n",
        "x_test.head()"
      ],
      "metadata": {
        "id": "0ZfX_-6xblg3"
      },
      "execution_count": null,
      "outputs": []
    },
    {
      "cell_type": "code",
      "source": [
        "x_test.reset_index(drop=True, inplace=True)"
      ],
      "metadata": {
        "id": "8pZcDxiofQho"
      },
      "execution_count": null,
      "outputs": []
    },
    {
      "cell_type": "markdown",
      "source": [
        "### Encoding"
      ],
      "metadata": {
        "id": "uQHM-oa0dVNs"
      }
    },
    {
      "cell_type": "code",
      "execution_count": null,
      "metadata": {
        "id": "tHGuYc7TdVNs"
      },
      "outputs": [],
      "source": [
        "from sklearn.preprocessing import OneHotEncoder\n",
        "\n",
        "encoding_1 = OneHotEncoder()\n",
        "encoding_1.fit(np.array(x_test['flow1']).reshape(-1, 1))\n",
        "dummies_1 = encoding_1.transform(np.array(x_test['flow1']).reshape(-1, 1)).toarray()"
      ]
    },
    {
      "cell_type": "code",
      "source": [
        "cols = []\n",
        "cols.extend(x_test.columns)\n",
        "cols.extend(['flow_0', 'flow_ 1'])\n",
        "cols"
      ],
      "metadata": {
        "id": "hJuPvfxddVNt"
      },
      "execution_count": null,
      "outputs": []
    },
    {
      "cell_type": "code",
      "source": [
        "x_test = pd.DataFrame(np.column_stack([x_test, dummies_1]), columns = [i for i in cols])\n",
        "x_test.head()"
      ],
      "metadata": {
        "id": "QOA_7CHZdVNt"
      },
      "execution_count": null,
      "outputs": []
    },
    {
      "cell_type": "code",
      "source": [
        "encoding_2 = OneHotEncoder()\n",
        "encoding_2.fit(np.array(x_test['13WindDirection']).reshape(-1, 1))\n",
        "dummies_2 = encoding_2.transform(np.array(x_test['13WindDirection']).reshape(-1, 1)).toarray()\n",
        "cols.extend(['wd_0', 'wd_1','wd_2','wd_3', 'wd_4','wd_5', 'wd_6','wd_7'])"
      ],
      "metadata": {
        "id": "CTYrlZM-dVNt"
      },
      "execution_count": null,
      "outputs": []
    },
    {
      "cell_type": "code",
      "source": [
        "x_test = pd.DataFrame(np.column_stack([x_test, dummies_2]), columns = [i for i in cols])\n",
        "x_test.head()"
      ],
      "metadata": {
        "id": "6ieLtw6QdVNt"
      },
      "execution_count": null,
      "outputs": []
    },
    {
      "cell_type": "code",
      "source": [
        "x_test.drop([\"13WindDirection\", \"flow1\"], axis = 1, inplace=True)\n",
        "x_test.columns"
      ],
      "metadata": {
        "id": "A8wV4EK0dVNt"
      },
      "execution_count": null,
      "outputs": []
    },
    {
      "cell_type": "markdown",
      "source": [
        "#### EDA_2"
      ],
      "metadata": {
        "id": "cnx9M1badVNu"
      }
    },
    {
      "cell_type": "code",
      "source": [
        "plot_distribution(x_test)"
      ],
      "metadata": {
        "id": "_MoDk_FydVNu"
      },
      "execution_count": null,
      "outputs": []
    },
    {
      "cell_type": "markdown",
      "source": [
        "## data for pycaret"
      ],
      "metadata": {
        "id": "g3sqI_-t1Lhw"
      }
    },
    {
      "cell_type": "code",
      "source": [
        "ogf = []\n",
        "src = '/kaggle/input/farm-connect-soil-water-content-prediction/train/train'\n",
        "for file in os.listdir(src):\n",
        "    ogf.append(pd.read_csv(os.path.join(src, file)))\n",
        "ogf = pd.concat(ogf)\n",
        "ogf = ogf[['1Air Humidity', '1AirTemperature', '1LightHigh',\n",
        "       '1LightLow',  '12WindSpeed','13WindDirection', '23SoilWC ค.ชื้นดิน', '23SoilTemp.อุณหภูมิดิน',\n",
        "       '23SoilEC', '23SoilpH', '26N', '26P', '26K', '29SoilTension', 'flow1']]"
      ],
      "metadata": {
        "id": "d76YaLdm1kIn"
      },
      "execution_count": null,
      "outputs": []
    },
    {
      "cell_type": "code",
      "source": [
        "og_test = []\n",
        "for f in ['02', '09']:\n",
        "    og_test.append(\n",
        "        pd.read_csv(\n",
        "            f'/kaggle/input/farm-connect-soil-water-content-prediction/test/test/set{f}.csv'\n",
        "        )\n",
        "    )\n",
        "og_test = pd.concat(og_test)\n",
        "og_test = og_test[['1Air Humidity', '1AirTemperature', '1LightHigh',\n",
        "       '1LightLow',  '12WindSpeed','13WindDirection', '23SoilTemp.อุณหภูมิดิน',\n",
        "       '23SoilEC', '23SoilpH', '26N', '26P', '26K', '29SoilTension', 'flow1']]\n",
        "og_test.reset_index(drop=True, inplace=True)"
      ],
      "metadata": {
        "id": "pkPRGPIe1QYQ"
      },
      "execution_count": null,
      "outputs": []
    },
    {
      "cell_type": "markdown",
      "source": [
        "### outliers"
      ],
      "metadata": {
        "id": "ZQGNmuQP3u34"
      }
    },
    {
      "cell_type": "code",
      "source": [
        "z_scores = (ogf - ogf.mean()) / ogf.std()\n",
        "outliers = (z_scores > 3) | (z_scores < -3)\n",
        "ogf = ogf[~outliers.any(axis=1)]\n",
        "ogf = ogf.reset_index(drop=True)\n",
        "ogf.shape"
      ],
      "metadata": {
        "id": "esPZsFdK1a5p"
      },
      "execution_count": null,
      "outputs": []
    },
    {
      "cell_type": "markdown",
      "source": [
        "### missing values"
      ],
      "metadata": {
        "id": "7gwuLMY933pm"
      }
    },
    {
      "cell_type": "code",
      "source": [
        "target = ogf['23SoilWC ค.ชื้นดิน']\n",
        "ogf = ogf.drop(['23SoilWC ค.ชื้นดิน'], axis=1)\n",
        "target"
      ],
      "metadata": {
        "id": "JvtTWieD33bW"
      },
      "execution_count": null,
      "outputs": []
    },
    {
      "cell_type": "code",
      "source": [
        "og = [ogf, og_test]\n",
        "og = pd.concat(og, ignore_index=True)\n",
        "og"
      ],
      "metadata": {
        "id": "SlDvavbx33YX"
      },
      "execution_count": null,
      "outputs": []
    },
    {
      "cell_type": "code",
      "source": [
        "means = og.mean(numeric_only=True)\n",
        "og.fillna(means, inplace=True)\n",
        "og.isnull().sum()"
      ],
      "metadata": {
        "id": "BC9RpY2T1a0o"
      },
      "execution_count": null,
      "outputs": []
    },
    {
      "cell_type": "markdown",
      "source": [
        "### split data, select feature"
      ],
      "metadata": {
        "id": "GZAo8A4Q4m-O"
      }
    },
    {
      "cell_type": "code",
      "source": [
        "ogf = og[:len(ogf)]\n",
        "ogf = ogf.reset_index(drop=True)\n",
        "ogf"
      ],
      "metadata": {
        "id": "wBekOGCl4k7W"
      },
      "execution_count": null,
      "outputs": []
    },
    {
      "cell_type": "code",
      "source": [
        "og_test = og[len(og_test):]\n",
        "og_test = og_test.reset_index(drop=True)\n",
        "og_test"
      ],
      "metadata": {
        "id": "w0GjfQY14k4N"
      },
      "execution_count": null,
      "outputs": []
    },
    {
      "cell_type": "code",
      "source": [
        "ogf['23SoilWC ค.ชื้นดิน'] = target\n",
        "\n",
        "ogf = ogf.dropna()\n",
        "ogf.isnull().sum()"
      ],
      "metadata": {
        "id": "ftl4K79b4k01"
      },
      "execution_count": null,
      "outputs": []
    },
    {
      "cell_type": "code",
      "source": [
        "ogf = ogf.reset_index(drop=True)\n",
        "ogf.shape"
      ],
      "metadata": {
        "id": "w88J2_L54kyI"
      },
      "execution_count": null,
      "outputs": []
    },
    {
      "cell_type": "code",
      "source": [
        "target = ogf['23SoilWC ค.ชื้นดิน']\n",
        "ogf = ogf.drop(['23SoilWC ค.ชื้นดิน'], axis=1)\n",
        "target"
      ],
      "metadata": {
        "id": "kpq-bV0E6l2X"
      },
      "execution_count": null,
      "outputs": []
    },
    {
      "cell_type": "markdown",
      "source": [
        "# Tree model\n",
        "\n"
      ],
      "metadata": {
        "id": "5-bLancZec3w"
      }
    },
    {
      "cell_type": "code",
      "source": [
        "from sklearn.ensemble import RandomForestRegressor\n",
        "from sklearn.ensemble import ExtraTreesRegressor\n",
        "\n",
        "regr = RandomForestRegressor()\n",
        "etr = ExtraTreesRegressor()"
      ],
      "metadata": {
        "id": "ipQ5Ij8KjH9R"
      },
      "execution_count": null,
      "outputs": []
    },
    {
      "cell_type": "markdown",
      "source": [
        "## Feature Selection"
      ],
      "metadata": {
        "id": "fO2SoVP7elxI"
      }
    },
    {
      "cell_type": "code",
      "source": [
        "reg_mod = RFECV(regr,\n",
        "                cv=3,\n",
        "                step=5\n",
        "                )\n",
        "reg_mod.fit(X_train, y_train)\n",
        "X_train.columns[reg_mod.support_]"
      ],
      "metadata": {
        "id": "MOgMBYBGedVV"
      },
      "execution_count": null,
      "outputs": []
    },
    {
      "cell_type": "code",
      "source": [
        "reg_mod = RFECV(etr,\n",
        "                cv=3,\n",
        "                step=5\n",
        "                )\n",
        "reg_mod.fit(X_train, y_train)\n",
        "X_train.columns[reg_mod.support_]"
      ],
      "metadata": {
        "id": "JvystbB0lFVo"
      },
      "execution_count": null,
      "outputs": []
    },
    {
      "cell_type": "markdown",
      "source": [
        "## training"
      ],
      "metadata": {
        "id": "oJP2GXUJkY66"
      }
    },
    {
      "cell_type": "code",
      "source": [
        "from sklearn.ensemble import ExtraTreesRegressor\n",
        "from sklearn.feature_selection import RFE\n",
        "from sklearn.metrics import mean_absolute_error\n",
        "\n",
        "etr = ExtraTreesRegressor(n_estimators=300, random_state=888)\n",
        "# etr = RFE(estimator=etr, n_features_to_select=5, step=5)\n",
        "etr.fit(X_train[['23SoilEC', '23SoilpH', '26N', '26P', '29SoilTension']], y_train)\n",
        "y_etr = etr.predict(X_val[['23SoilEC', '23SoilpH', '26N', '26P', '29SoilTension']])\n",
        "print(\"Mean Absolute Error (MAE):\", mean_absolute_error(y_val, y_etr))"
      ],
      "metadata": {
        "id": "vdzb_btlbleA"
      },
      "execution_count": null,
      "outputs": []
    },
    {
      "cell_type": "code",
      "source": [
        "etr = ExtraTreesRegressor(n_estimators=300, random_state=888)\n",
        "# etr = RFE(estimator=etr, n_features_to_select=5, step=5)\n",
        "etr.fit(X_train, y_train)\n",
        "y_etr = etr.predict(X_val)\n",
        "print(\"Mean Absolute Error (MAE):\", mean_absolute_error(y_val, y_etr))"
      ],
      "metadata": {
        "id": "-khdh0-enFEA"
      },
      "execution_count": null,
      "outputs": []
    },
    {
      "cell_type": "code",
      "source": [
        "regr = RandomForestRegressor(n_estimators=300, random_state=888)\n",
        "regr = RFE(estimator=regr, n_features_to_select=5, step=5)\n",
        "regr.fit(X_train[['23SoilEC', '23SoilpH', '26N', '26P', '29SoilTension']], y_train)\n",
        "y_regr = regr.predict(X_val[['23SoilEC', '23SoilpH', '26N', '26P', '29SoilTension']])\n",
        "print(\"Mean Absolute Error (MAE):\", mean_absolute_error(y_val, y_regr))"
      ],
      "metadata": {
        "id": "fRrsmKMLk-mZ"
      },
      "execution_count": null,
      "outputs": []
    },
    {
      "cell_type": "code",
      "source": [
        "regr = RandomForestRegressor(n_estimators=300, random_state=888)\n",
        "# regr = RFE(estimator=regr, n_features_to_select=5, step=5)\n",
        "regr.fit(X_train, y_train)\n",
        "y_regr = regr.predict(X_val)\n",
        "print(\"Mean Absolute Error (MAE):\", mean_absolute_error(y_val, y_regr))"
      ],
      "metadata": {
        "id": "HTFq9uSpnbVY"
      },
      "execution_count": null,
      "outputs": []
    },
    {
      "cell_type": "code",
      "source": [
        "y_pred_e = etr.predict(x_test)\n",
        "y_pred_e"
      ],
      "metadata": {
        "id": "A2ur-6_voO2n"
      },
      "execution_count": null,
      "outputs": []
    },
    {
      "cell_type": "code",
      "source": [
        "y_pred_r = regr.predict(x_test)\n",
        "y_pred_r"
      ],
      "metadata": {
        "id": "_vpO2YtAoNAY"
      },
      "execution_count": null,
      "outputs": []
    },
    {
      "cell_type": "markdown",
      "source": [
        "## Submission"
      ],
      "metadata": {
        "id": "9N0gGlwRpOlY"
      }
    },
    {
      "cell_type": "code",
      "source": [
        "submission = pd.read_csv('/kaggle/input/farm-connect-soil-water-content-prediction/sample_submission.csv')\n",
        "submission.head()"
      ],
      "metadata": {
        "id": "GG7Cr_0ppOYE"
      },
      "execution_count": null,
      "outputs": []
    },
    {
      "cell_type": "code",
      "source": [
        "submission['23SoilWC ค.ชื้นดิน'][1:] = y_pred_e[1:]\n",
        "submission"
      ],
      "metadata": {
        "id": "SuWCVhNYpORo"
      },
      "execution_count": null,
      "outputs": []
    },
    {
      "cell_type": "code",
      "source": [
        "submission.to_csv('etr_superprocess.csv', index=False)"
      ],
      "metadata": {
        "id": "nGCOWH0Bqqcw"
      },
      "execution_count": null,
      "outputs": []
    },
    {
      "cell_type": "markdown",
      "source": [
        "# Pycaret"
      ],
      "metadata": {
        "id": "vMvAHAPufDOz"
      }
    },
    {
      "cell_type": "markdown",
      "source": [
        "## train"
      ],
      "metadata": {
        "id": "dJdGfOQRwjCo"
      }
    },
    {
      "cell_type": "code",
      "source": [
        "from pycaret.regression import *\n",
        "\n",
        "reg = setup(data=ogf[['23SoilEC', '23SoilpH', '26N', '26P', '29SoilTension']], target=target, train_size=0.9, session_id=999)"
      ],
      "metadata": {
        "id": "Br81B0QCblbB"
      },
      "execution_count": null,
      "outputs": []
    },
    {
      "cell_type": "code",
      "source": [
        "best_model = compare_models()"
      ],
      "metadata": {
        "id": "GbDPgdbxs9wk"
      },
      "execution_count": null,
      "outputs": []
    },
    {
      "cell_type": "markdown",
      "source": [
        "## stacking"
      ],
      "metadata": {
        "id": "GugxZz2fFxl3"
      }
    },
    {
      "cell_type": "code",
      "source": [
        "t_1 = create_model('et')\n",
        "t_2 = create_model('rf')\n",
        "t_3 = create_model('xgboost')\n",
        "\n",
        "estimators = [\n",
        "    ('et', t_1),\n",
        "    ('rf', t_2),\n",
        "    ('xgboost', t_3)\n",
        "]"
      ],
      "metadata": {
        "id": "dOU3fzEeG4m4"
      },
      "execution_count": null,
      "outputs": []
    },
    {
      "cell_type": "code",
      "source": [
        "from sklearn.ensemble import StackingRegressor\n",
        "from sklearn.model_selection import train_test_split\n",
        "\n",
        "reg = StackingRegressor(\n",
        "    estimators=estimators\n",
        ")\n",
        "\n",
        "X_train, X_val, y_train, y_val = train_test_split(ogf, target, random_state=42)"
      ],
      "metadata": {
        "id": "01qMkIaoFxc4"
      },
      "execution_count": null,
      "outputs": []
    },
    {
      "cell_type": "code",
      "source": [
        "reg.fit(X_train, y_train).score(X_val, y_val)"
      ],
      "metadata": {
        "id": "GSAXtrRHFxRf"
      },
      "execution_count": null,
      "outputs": []
    },
    {
      "cell_type": "code",
      "source": [
        "reg.predict(og_test)"
      ],
      "metadata": {
        "id": "Dn3_2GkaNeTF"
      },
      "execution_count": null,
      "outputs": []
    },
    {
      "cell_type": "markdown",
      "source": [
        "## LinearReg"
      ],
      "metadata": {
        "id": "lYW08NcWOpX_"
      }
    },
    {
      "cell_type": "code",
      "source": [
        "lng = create_model('lr')"
      ],
      "metadata": {
        "id": "okLMFsXiOu1d"
      },
      "execution_count": null,
      "outputs": []
    },
    {
      "cell_type": "code",
      "source": [
        "predict_model(lng, data=og_test)"
      ],
      "metadata": {
        "id": "jcyromcaOuyG"
      },
      "execution_count": null,
      "outputs": []
    },
    {
      "cell_type": "markdown",
      "source": [
        "## extratree"
      ],
      "metadata": {
        "id": "Xa1L3mtmDpiU"
      }
    },
    {
      "cell_type": "code",
      "source": [
        "tune = create_model('et')"
      ],
      "metadata": {
        "id": "xui1F_XT8G8v"
      },
      "execution_count": null,
      "outputs": []
    },
    {
      "cell_type": "code",
      "source": [
        "predictions = predict_model(tune, data=og_test)\n",
        "predictions"
      ],
      "metadata": {
        "id": "lMWMFO8Hw60k"
      },
      "execution_count": null,
      "outputs": []
    },
    {
      "cell_type": "markdown",
      "source": [
        "### submit and compare"
      ],
      "metadata": {
        "id": "AooBustuw7Jg"
      }
    },
    {
      "cell_type": "code",
      "source": [
        "submission = pd.read_csv('/kaggle/input/farm-connect-soil-water-content-prediction/sample_submission.csv')\n",
        "submission['23SoilWC ค.ชื้นดิน'][1:] = predictions['prediction_label'][1:]\n",
        "submission"
      ],
      "metadata": {
        "id": "D6gKjT4CwR0g"
      },
      "execution_count": null,
      "outputs": []
    },
    {
      "cell_type": "code",
      "source": [
        "from sklearn.metrics import mean_absolute_error\n",
        "\n",
        "df_old = pd.read_csv('/content/ExtraTreesRegressor_Outlier_estimators300_Fx888.csv')\n",
        "mean_absolute_error(df_old['23SoilWC ค.ชื้นดิน'], submission['23SoilWC ค.ชื้นดิน'])"
      ],
      "metadata": {
        "id": "9sXXpixws9sp"
      },
      "execution_count": null,
      "outputs": []
    },
    {
      "cell_type": "code",
      "source": [
        "submission.to_csv('pycaret_eklao.csv', index=False)"
      ],
      "metadata": {
        "id": "kz4l7Vm5s9pC"
      },
      "execution_count": null,
      "outputs": []
    },
    {
      "cell_type": "code",
      "source": [],
      "metadata": {
        "id": "eyTkzVYkT-HR"
      },
      "execution_count": null,
      "outputs": []
    }
  ]
}