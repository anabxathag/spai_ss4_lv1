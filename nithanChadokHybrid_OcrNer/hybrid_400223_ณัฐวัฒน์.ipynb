{
  "metadata": {
    "kernelspec": {
      "language": "python",
      "display_name": "Python 3",
      "name": "python3"
    },
    "language_info": {
      "name": "python",
      "version": "3.10.13",
      "mimetype": "text/x-python",
      "codemirror_mode": {
        "name": "ipython",
        "version": 3
      },
      "pygments_lexer": "ipython3",
      "nbconvert_exporter": "python",
      "file_extension": ".py"
    },
    "kaggle": {
      "accelerator": "none",
      "dataSources": [
        {
          "sourceId": 71848,
          "databundleVersionId": 7895361,
          "sourceType": "competition"
        },
        {
          "sourceId": 7795796,
          "sourceType": "datasetVersion",
          "datasetId": 4564016
        },
        {
          "sourceId": 7796267,
          "sourceType": "datasetVersion",
          "datasetId": 4564327
        },
        {
          "sourceId": 7796414,
          "sourceType": "datasetVersion",
          "datasetId": 4564433
        }
      ],
      "dockerImageVersionId": 30664,
      "isInternetEnabled": true,
      "language": "python",
      "sourceType": "notebook",
      "isGpuEnabled": false
    },
    "colab": {
      "provenance": [],
      "toc_visible": true
    }
  },
  "nbformat_minor": 0,
  "nbformat": 4,
  "cells": [
    {
      "source": [
        "\n",
        "# IMPORTANT: RUN THIS CELL IN ORDER TO IMPORT YOUR KAGGLE DATA SOURCES\n",
        "# TO THE CORRECT LOCATION (/kaggle/input) IN YOUR NOTEBOOK,\n",
        "# THEN FEEL FREE TO DELETE THIS CELL.\n",
        "# NOTE: THIS NOTEBOOK ENVIRONMENT DIFFERS FROM KAGGLE'S PYTHON\n",
        "# ENVIRONMENT SO THERE MAY BE MISSING LIBRARIES USED BY YOUR\n",
        "# NOTEBOOK.\n",
        "\n",
        "import os\n",
        "import sys\n",
        "from tempfile import NamedTemporaryFile\n",
        "from urllib.request import urlopen\n",
        "from urllib.parse import unquote, urlparse\n",
        "from urllib.error import HTTPError\n",
        "from zipfile import ZipFile\n",
        "import tarfile\n",
        "import shutil\n",
        "\n",
        "CHUNK_SIZE = 40960\n",
        "DATA_SOURCE_MAPPING = 'nithan-chadok-hybrid-ocr-ner:https%3A%2F%2Fstorage.googleapis.com%2Fkaggle-competitions-data%2Fkaggle-v2%2F71848%2F7895361%2Fbundle%2Farchive.zip%3FX-Goog-Algorithm%3DGOOG4-RSA-SHA256%26X-Goog-Credential%3Dgcp-kaggle-com%2540kaggle-161607.iam.gserviceaccount.com%252F20240310%252Fauto%252Fstorage%252Fgoog4_request%26X-Goog-Date%3D20240310T075021Z%26X-Goog-Expires%3D259200%26X-Goog-SignedHeaders%3Dhost%26X-Goog-Signature%3D1487fbd63cc530df920a87112a6bf72c0505f47a3c7d92087251ded30eb64474a33fc190fe698c3380ddbf9f1500d46b172a99798455088d42a39ebfe8badc6b388b4113bbb28d36787df1334fe0d323705bde4a5404f51499eda27eac761c1d9e5c0159e56af58ed0f9cf44e4f6191f201dced2fe9ba2c99735820fa0795ef9b320184e0fb5e72733ed42939573e2d41854e5e7e7ced8790479672d1d59e3a032128985cc046dacc1cdaee8338996251656497b4b014ed69f4e33afd2b739618b1515384bbb294d52319734593904ad362537dc7a187a0870815456e5ad031db7a8115a46988b0049242578001a3b9f72c51c1425b146e4f0529cb8ec974a4f,testdata-teserac:https%3A%2F%2Fstorage.googleapis.com%2Fkaggle-data-sets%2F4564016%2F7795796%2Fbundle%2Farchive.zip%3FX-Goog-Algorithm%3DGOOG4-RSA-SHA256%26X-Goog-Credential%3Dgcp-kaggle-com%2540kaggle-161607.iam.gserviceaccount.com%252F20240310%252Fauto%252Fstorage%252Fgoog4_request%26X-Goog-Date%3D20240310T075021Z%26X-Goog-Expires%3D259200%26X-Goog-SignedHeaders%3Dhost%26X-Goog-Signature%3Db8dd231729668f62bbb523cc0ad92a7b1b0881616737c39bdcdbd3c8ce6d74235716f9a6acc0f20e7538a59461147d9873933c486cb4049ef4b9ef063286f659c71f293253dc727a20c961755e73cc40e41d5c663c58a445533c7a80141c430620dba9eb868abcda15576a0c0f63ec244154d1f2a5f3ce3b7be5a8e365f6e6c391684dd4d0b50d341db76bf2358e281a1f62522ab0d32bb9d751ec10bfd0e38175defc31dc0a5f4af4a86e2f752ba777890994a921db17293eeaf48f8f7905f809af0a76f7673741ec9776127ffe833fc02fb824586777951ff3b74150b2e43aa1315655d8827f2c8f40193e6197ead0e27f754ce137352d517a5f045a9b3618,thapat-210:https%3A%2F%2Fstorage.googleapis.com%2Fkaggle-data-sets%2F4564327%2F7796267%2Fbundle%2Farchive.zip%3FX-Goog-Algorithm%3DGOOG4-RSA-SHA256%26X-Goog-Credential%3Dgcp-kaggle-com%2540kaggle-161607.iam.gserviceaccount.com%252F20240310%252Fauto%252Fstorage%252Fgoog4_request%26X-Goog-Date%3D20240310T075021Z%26X-Goog-Expires%3D259200%26X-Goog-SignedHeaders%3Dhost%26X-Goog-Signature%3D4abcb5de2ca7e3cffd07a196b389fe77dbc0a5ce91adcc4c1593dc2e7be695ccc436d56e6e68f50e47bb3b5d0eb6faad3218e43885bc63134a7a8119f1b91e86cbdbe63dadc123c9b3b727e753eb15214483246f69a95a75d4a258e9421ad52892a342e8e3de839736fab079b55fd849e2526b082d0c4aa8f54b3868f781d6d2b3256e19207fcfa2d6b3cd146b1ad0a6dcd001c15ff173036f734fdcd0ed9a16453642e6ee77fb904f1ce59154709fefc2ffa92793d8955b76403cbd7a0cd8dbf83746bd381a278639699a9439e4efa53eaab5b5382bd07285e74a3236088b7be2a5cad37304acf09f773c4804623b3b79b5155d54e4b02f41e8027a56c984eb,deskew-combine:https%3A%2F%2Fstorage.googleapis.com%2Fkaggle-data-sets%2F4564433%2F7796414%2Fbundle%2Farchive.zip%3FX-Goog-Algorithm%3DGOOG4-RSA-SHA256%26X-Goog-Credential%3Dgcp-kaggle-com%2540kaggle-161607.iam.gserviceaccount.com%252F20240310%252Fauto%252Fstorage%252Fgoog4_request%26X-Goog-Date%3D20240310T075021Z%26X-Goog-Expires%3D259200%26X-Goog-SignedHeaders%3Dhost%26X-Goog-Signature%3Dc00c874180bbf2ed041fea4717d94231f617280d9b080275e16a60a9599c6b63710b029d814f2f78b0ab9f94eedf7e7fbdedc6b72c74d8d2c1ccf25427ed4d8897b2fa08494c8c188ead77ff648b6d3d86728e9d466cb12b76acb7a7628432d961e5682ecdddf12a39814c99c348557beaf6300dfc5e9e3ea95d3d7c490d11f040a18525fa192d1ed1b8e6e6e034f4cab61d39e300d3f353d2764a8f1b496bee4a973f313bea56667fb69222d366f2731d8ee69e835e467a9c5c0ae72561c28c88b63069f5d81cb58e117b83b8a796d03e16f8586813108b7c91754808a8ffbeebbd638be8aca635330dc4de27097d40ccc8685fd0fb7f026b5791a87634e1e0'\n",
        "\n",
        "KAGGLE_INPUT_PATH='/kaggle/input'\n",
        "KAGGLE_WORKING_PATH='/kaggle/working'\n",
        "KAGGLE_SYMLINK='kaggle'\n",
        "\n",
        "!umount /kaggle/input/ 2> /dev/null\n",
        "shutil.rmtree('/kaggle/input', ignore_errors=True)\n",
        "os.makedirs(KAGGLE_INPUT_PATH, 0o777, exist_ok=True)\n",
        "os.makedirs(KAGGLE_WORKING_PATH, 0o777, exist_ok=True)\n",
        "\n",
        "try:\n",
        "  os.symlink(KAGGLE_INPUT_PATH, os.path.join(\"..\", 'input'), target_is_directory=True)\n",
        "except FileExistsError:\n",
        "  pass\n",
        "try:\n",
        "  os.symlink(KAGGLE_WORKING_PATH, os.path.join(\"..\", 'working'), target_is_directory=True)\n",
        "except FileExistsError:\n",
        "  pass\n",
        "\n",
        "for data_source_mapping in DATA_SOURCE_MAPPING.split(','):\n",
        "    directory, download_url_encoded = data_source_mapping.split(':')\n",
        "    download_url = unquote(download_url_encoded)\n",
        "    filename = urlparse(download_url).path\n",
        "    destination_path = os.path.join(KAGGLE_INPUT_PATH, directory)\n",
        "    try:\n",
        "        with urlopen(download_url) as fileres, NamedTemporaryFile() as tfile:\n",
        "            total_length = fileres.headers['content-length']\n",
        "            print(f'Downloading {directory}, {total_length} bytes compressed')\n",
        "            dl = 0\n",
        "            data = fileres.read(CHUNK_SIZE)\n",
        "            while len(data) > 0:\n",
        "                dl += len(data)\n",
        "                tfile.write(data)\n",
        "                done = int(50 * dl / int(total_length))\n",
        "                sys.stdout.write(f\"\\r[{'=' * done}{' ' * (50-done)}] {dl} bytes downloaded\")\n",
        "                sys.stdout.flush()\n",
        "                data = fileres.read(CHUNK_SIZE)\n",
        "            if filename.endswith('.zip'):\n",
        "              with ZipFile(tfile) as zfile:\n",
        "                zfile.extractall(destination_path)\n",
        "            else:\n",
        "              with tarfile.open(tfile.name) as tarfile:\n",
        "                tarfile.extractall(destination_path)\n",
        "            print(f'\\nDownloaded and uncompressed: {directory}')\n",
        "    except HTTPError as e:\n",
        "        print(f'Failed to load (likely expired) {download_url} to path {destination_path}')\n",
        "        continue\n",
        "    except OSError as e:\n",
        "        print(f'Failed to load {download_url} to path {destination_path}')\n",
        "        continue\n",
        "\n",
        "print('Data source import complete.')\n"
      ],
      "metadata": {
        "id": "ChXzPcfUV20F"
      },
      "cell_type": "code",
      "outputs": [],
      "execution_count": null
    },
    {
      "cell_type": "code",
      "source": [
        "# This Python 3 environment comes with many helpful analytics libraries installed\n",
        "# It is defined by the kaggle/python Docker image: https://github.com/kaggle/docker-python\n",
        "# For example, here's several helpful packages to load\n",
        "\n",
        "import numpy as np # linear algebra\n",
        "import pandas as pd # data processing, CSV file I/O (e.g. pd.read_csv)\n",
        "\n",
        "# Input data files are available in the read-only \"../input/\" directory\n",
        "# For example, running this (by clicking run or pressing Shift+Enter) will list all files under the input directory\n",
        "\n",
        "import os\n",
        "for dirname, _, filenames in os.walk('/kaggle/input'):\n",
        "    for filename in filenames:\n",
        "        print(os.path.join(dirname, filename))\n",
        "\n",
        "# You can write up to 20GB to the current directory (/kaggle/working/) that gets preserved as output when you create a version using \"Save & Run All\"\n",
        "# You can also write temporary files to /kaggle/temp/, but they won't be saved outside of the current session"
      ],
      "metadata": {
        "_uuid": "8f2839f25d086af736a60e9eeb907d3b93b6e0e5",
        "_cell_guid": "b1076dfc-b9ad-4769-8c92-a6c4dae69d19",
        "trusted": true,
        "id": "1gwO8adMV20L"
      },
      "execution_count": null,
      "outputs": []
    },
    {
      "cell_type": "code",
      "source": [
        "! pip install -q pytesseract"
      ],
      "metadata": {
        "execution": {
          "iopub.status.busy": "2024-03-09T07:59:47.671111Z",
          "iopub.execute_input": "2024-03-09T07:59:47.672208Z",
          "iopub.status.idle": "2024-03-09T08:00:01.46385Z",
          "shell.execute_reply.started": "2024-03-09T07:59:47.672163Z",
          "shell.execute_reply": "2024-03-09T08:00:01.462534Z"
        },
        "trusted": true,
        "id": "Xz-lxeSLV20M"
      },
      "execution_count": null,
      "outputs": []
    },
    {
      "cell_type": "code",
      "source": [
        "! sudo apt-get install tesseract-ocr-tha"
      ],
      "metadata": {
        "execution": {
          "iopub.status.busy": "2024-03-09T08:03:55.141935Z",
          "iopub.execute_input": "2024-03-09T08:03:55.142366Z",
          "iopub.status.idle": "2024-03-09T08:04:01.945609Z",
          "shell.execute_reply.started": "2024-03-09T08:03:55.142328Z",
          "shell.execute_reply": "2024-03-09T08:04:01.944134Z"
        },
        "trusted": true,
        "id": "nI5ItlvVV20N"
      },
      "execution_count": null,
      "outputs": []
    },
    {
      "cell_type": "code",
      "source": [
        "! sudo tesseract --list-langs"
      ],
      "metadata": {
        "execution": {
          "iopub.status.busy": "2024-03-09T08:08:38.270239Z",
          "iopub.execute_input": "2024-03-09T08:08:38.270771Z",
          "iopub.status.idle": "2024-03-09T08:08:39.518973Z",
          "shell.execute_reply.started": "2024-03-09T08:08:38.270733Z",
          "shell.execute_reply": "2024-03-09T08:08:39.51765Z"
        },
        "trusted": true,
        "id": "s7_J9bDVV20O"
      },
      "execution_count": null,
      "outputs": []
    },
    {
      "cell_type": "code",
      "source": [
        "import pytesseract\n",
        "from tqdm import tqdm"
      ],
      "metadata": {
        "execution": {
          "iopub.status.busy": "2024-03-09T08:08:41.758251Z",
          "iopub.execute_input": "2024-03-09T08:08:41.758687Z",
          "iopub.status.idle": "2024-03-09T08:08:42.192693Z",
          "shell.execute_reply.started": "2024-03-09T08:08:41.758648Z",
          "shell.execute_reply": "2024-03-09T08:08:42.191561Z"
        },
        "trusted": true,
        "id": "1kNJRlxoV20P"
      },
      "execution_count": null,
      "outputs": []
    },
    {
      "cell_type": "markdown",
      "source": [
        "# Preprocess"
      ],
      "metadata": {
        "id": "Ltrwm8-9V20Q"
      }
    },
    {
      "cell_type": "code",
      "source": [
        "from transformers import CamembertTokenizerFast, CamembertForTokenClassification, pipeline\n",
        "\n",
        "tokenizer = CamembertTokenizerFast.from_pretrained(\"thanaphatt1/WangchanBERTa-LST20\")\n",
        "model = CamembertForTokenClassification.from_pretrained(\"thanaphatt1/WangchanBERTa-LST20\")\n",
        "\n",
        "nlp = pipeline('token-classification', model=model, tokenizer=tokenizer, aggregation_strategy=\"none\", ignore_labels=[])"
      ],
      "metadata": {
        "execution": {
          "iopub.status.busy": "2024-03-09T10:31:17.078496Z",
          "iopub.execute_input": "2024-03-09T10:31:17.078947Z",
          "iopub.status.idle": "2024-03-09T10:31:48.36543Z",
          "shell.execute_reply.started": "2024-03-09T10:31:17.078912Z",
          "shell.execute_reply": "2024-03-09T10:31:48.364209Z"
        },
        "trusted": true,
        "id": "dyd1oIvNV20S"
      },
      "execution_count": null,
      "outputs": []
    },
    {
      "cell_type": "code",
      "source": [
        "from PIL import Image\n",
        "import cv2\n",
        "import numpy as np\n",
        "import pytesseract\n",
        "from matplotlib import pyplot as plt\n",
        "import os\n",
        "import pandas as pd\n",
        "import math"
      ],
      "metadata": {
        "execution": {
          "iopub.status.busy": "2024-03-09T08:20:56.314754Z",
          "iopub.execute_input": "2024-03-09T08:20:56.315131Z",
          "iopub.status.idle": "2024-03-09T08:20:56.321412Z",
          "shell.execute_reply.started": "2024-03-09T08:20:56.3151Z",
          "shell.execute_reply": "2024-03-09T08:20:56.31993Z"
        },
        "trusted": true,
        "id": "DL_-BoPmV20T"
      },
      "execution_count": null,
      "outputs": []
    },
    {
      "cell_type": "code",
      "source": [
        "tag_list = pd.read_csv('/kaggle/input/nithan-chadok-hybrid-ocr-ner/tag_list.csv')\n",
        "tags = {row['tag']:row['class'] for _, row in tag_list.iterrows()}\n",
        "src = '/kaggle/input/nithan-chadok-hybrid-ocr-ner/images/images'\n",
        "kernel = np.array([\n",
        "    [0, 0, 0],\n",
        "    [0, 1, 0],\n",
        "    [0,0,0]\n",
        "])\n",
        "preds = []"
      ],
      "metadata": {
        "execution": {
          "iopub.status.busy": "2024-03-09T08:09:01.607602Z",
          "iopub.execute_input": "2024-03-09T08:09:01.608026Z",
          "iopub.status.idle": "2024-03-09T08:09:01.630777Z",
          "shell.execute_reply.started": "2024-03-09T08:09:01.60799Z",
          "shell.execute_reply": "2024-03-09T08:09:01.629658Z"
        },
        "trusted": true,
        "id": "jdJKxO47V20U"
      },
      "execution_count": null,
      "outputs": []
    },
    {
      "cell_type": "code",
      "source": [
        "from PIL import Image\n",
        "image = Image.open('/kaggle/input/nithan-chadok-hybrid-ocr-ner/images/images/00001.jpg')\n",
        "image"
      ],
      "metadata": {
        "execution": {
          "iopub.status.busy": "2024-03-09T08:09:05.311947Z",
          "iopub.execute_input": "2024-03-09T08:09:05.312461Z",
          "iopub.status.idle": "2024-03-09T08:09:05.484593Z",
          "shell.execute_reply.started": "2024-03-09T08:09:05.312416Z",
          "shell.execute_reply": "2024-03-09T08:09:05.483742Z"
        },
        "trusted": true,
        "id": "aKpQurM9V20V"
      },
      "execution_count": null,
      "outputs": []
    },
    {
      "cell_type": "code",
      "source": [
        "output_tesseract = pytesseract.image_to_string(image, lang='tha')\n",
        "print(output_tesseract)"
      ],
      "metadata": {
        "execution": {
          "iopub.status.busy": "2024-03-09T08:09:18.966657Z",
          "iopub.execute_input": "2024-03-09T08:09:18.96705Z",
          "iopub.status.idle": "2024-03-09T08:09:19.117978Z",
          "shell.execute_reply.started": "2024-03-09T08:09:18.967016Z",
          "shell.execute_reply": "2024-03-09T08:09:19.116982Z"
        },
        "trusted": true,
        "id": "tXzSpsrPV20V"
      },
      "execution_count": null,
      "outputs": []
    },
    {
      "cell_type": "code",
      "source": [
        "output_tesseract.split('\\n')"
      ],
      "metadata": {
        "execution": {
          "iopub.status.busy": "2024-03-09T08:09:54.047879Z",
          "iopub.execute_input": "2024-03-09T08:09:54.048284Z",
          "iopub.status.idle": "2024-03-09T08:09:54.055083Z",
          "shell.execute_reply.started": "2024-03-09T08:09:54.048251Z",
          "shell.execute_reply": "2024-03-09T08:09:54.053815Z"
        },
        "trusted": true,
        "id": "0ZbxEoiHV20W"
      },
      "execution_count": null,
      "outputs": []
    },
    {
      "cell_type": "code",
      "source": [
        "def getSkewAngle(cvImage) -> float:\n",
        "    # Prep image, copy, convert to gray scale, blur, and threshold\n",
        "    newImage = np.array(cvImage)\n",
        "    gray = cv2.cvtColor(newImage, cv2.COLOR_BGR2GRAY)\n",
        "    blur = cv2.GaussianBlur(gray, (9, 9), 0)\n",
        "    thresh = cv2.threshold(blur, 0, 255, cv2.THRESH_BINARY_INV + cv2.THRESH_OTSU)[1]\n",
        "\n",
        "    # Apply dilate to merge text into meaningful lines/paragraphs.\n",
        "    # Use larger kernel on X axis to merge characters into single line, cancelling out any spaces.\n",
        "    # But use smaller kernel on Y axis to separate between different blocks of text\n",
        "    kernel = cv2.getStructuringElement(cv2.MORPH_RECT, (30, 5))\n",
        "    dilate = cv2.dilate(thresh, kernel, iterations=2)\n",
        "\n",
        "    # Find all contours\n",
        "    contours, hierarchy = cv2.findContours(dilate, cv2.RETR_LIST, cv2.CHAIN_APPROX_SIMPLE)\n",
        "    contours = sorted(contours, key = cv2.contourArea, reverse = True)\n",
        "    firstbox = []\n",
        "    lastbox = []\n",
        "    box = []\n",
        "    for c in contours:\n",
        "        rect = cv2.boundingRect(c)\n",
        "        x,y,w,h = rect\n",
        "        box.append([x,y,x+w,y+h])\n",
        "        cv2.rectangle(newImage,(x,y),(x+w,y+h),(0,255,0),2)\n",
        "\n",
        "    s_box = sorted(box, key = lambda x: x[1])\n",
        "    f_box = s_box[0]\n",
        "    l_box = s_box[-1]\n",
        "    if -f_box[0]+l_box[0] == 0:\n",
        "        angle = 0\n",
        "    else:\n",
        "        m = (-l_box[1]+f_box[1])/(-f_box[0]+l_box[0])\n",
        "        degree = math.atan(m)\n",
        "        angle = degree * 180 / math.pi\n",
        "\n",
        "    # Find largest contour and surround in min area box\n",
        "    largestContour = contours[0]\n",
        "    minAreaRect = cv2.minAreaRect(largestContour)\n",
        "#     cv2.imwrite(\"boxes.jpg\", newImage)\n",
        "    if angle <0:\n",
        "        angle += 90\n",
        "    elif angle > 0:\n",
        "        angle -= 90\n",
        "\n",
        "    return angle"
      ],
      "metadata": {
        "execution": {
          "iopub.status.busy": "2024-03-09T10:04:24.006787Z",
          "iopub.execute_input": "2024-03-09T10:04:24.007168Z",
          "iopub.status.idle": "2024-03-09T10:04:24.01833Z",
          "shell.execute_reply.started": "2024-03-09T10:04:24.00714Z",
          "shell.execute_reply": "2024-03-09T10:04:24.017281Z"
        },
        "trusted": true,
        "id": "qMZMbZAZV20W"
      },
      "execution_count": null,
      "outputs": []
    },
    {
      "cell_type": "code",
      "source": [
        "getSkewAngle(image)"
      ],
      "metadata": {
        "execution": {
          "iopub.status.busy": "2024-03-09T10:04:29.057515Z",
          "iopub.execute_input": "2024-03-09T10:04:29.058699Z",
          "iopub.status.idle": "2024-03-09T10:04:29.071008Z",
          "shell.execute_reply.started": "2024-03-09T10:04:29.058656Z",
          "shell.execute_reply": "2024-03-09T10:04:29.069329Z"
        },
        "trusted": true,
        "id": "lkjuw1ycV20W"
      },
      "execution_count": null,
      "outputs": []
    },
    {
      "cell_type": "code",
      "source": [
        "plt.imshow(Image.open('/kaggle/working/boxes.jpg'))"
      ],
      "metadata": {
        "execution": {
          "iopub.status.busy": "2024-03-09T08:33:35.093835Z",
          "iopub.execute_input": "2024-03-09T08:33:35.094246Z",
          "iopub.status.idle": "2024-03-09T08:33:35.473407Z",
          "shell.execute_reply.started": "2024-03-09T08:33:35.094212Z",
          "shell.execute_reply": "2024-03-09T08:33:35.472192Z"
        },
        "trusted": true,
        "id": "aHSCZoceV20X"
      },
      "execution_count": null,
      "outputs": []
    },
    {
      "cell_type": "code",
      "source": [
        "# Rotate the image around its center\n",
        "def rotateImage(cvImage, angle: float):\n",
        "    newImage = np.array(cvImage)\n",
        "    (h, w) = newImage.shape[:2]\n",
        "    center = (w // 2, h // 2)\n",
        "    M = cv2.getRotationMatrix2D(center, angle, 1.0)\n",
        "    newImage = cv2.warpAffine(newImage, M, (w, h), flags=cv2.INTER_CUBIC, borderMode=cv2.BORDER_REPLICATE)\n",
        "    return newImage\n",
        "def deskew(cvImage):\n",
        "    angle = getSkewAngle(cvImage)\n",
        "    return rotateImage(cvImage, -1.0 * angle)"
      ],
      "metadata": {
        "execution": {
          "iopub.status.busy": "2024-03-09T10:20:14.298507Z",
          "iopub.execute_input": "2024-03-09T10:20:14.298949Z",
          "iopub.status.idle": "2024-03-09T10:20:14.306349Z",
          "shell.execute_reply.started": "2024-03-09T10:20:14.298916Z",
          "shell.execute_reply": "2024-03-09T10:20:14.305174Z"
        },
        "trusted": true,
        "id": "o6MpmpJqV20X"
      },
      "execution_count": null,
      "outputs": []
    },
    {
      "cell_type": "code",
      "source": [
        "plt.imshow(deskew(image))"
      ],
      "metadata": {
        "execution": {
          "iopub.status.busy": "2024-03-09T10:20:31.366181Z",
          "iopub.execute_input": "2024-03-09T10:20:31.366592Z",
          "iopub.status.idle": "2024-03-09T10:20:31.768028Z",
          "shell.execute_reply.started": "2024-03-09T10:20:31.366542Z",
          "shell.execute_reply": "2024-03-09T10:20:31.767105Z"
        },
        "trusted": true,
        "id": "3KO-GqbEV20X"
      },
      "execution_count": null,
      "outputs": []
    },
    {
      "cell_type": "code",
      "source": [
        "# image = Image.open('/kaggle/input/nithan-chadok-hybrid-ocr-ner/images/images/00000.jpg')\n",
        "inputcopy = deskew(image)\n",
        "grayinput = cv2.cvtColor(inputcopy, cv2.COLOR_BGR2GRAY)\n",
        "_, binaryImage = cv2.threshold(grayinput, 0, 255, cv2.THRESH_BINARY_INV + cv2.THRESH_OTSU)\n",
        "kernelSize = (5, 5)\n",
        "opIterations = 2\n",
        "morphKernel = cv2.getStructuringElement(cv2.MORPH_RECT, kernelSize)\n",
        "dilateImage = cv2.morphologyEx(\n",
        "    binaryImage,\n",
        "    cv2.MORPH_DILATE,\n",
        "    morphKernel,\n",
        "    None,\n",
        "    None,\n",
        "    opIterations,\n",
        "    cv2.BORDER_REFLECT101\n",
        ")\n",
        "\n",
        "contours, _ = cv2.findContours(dilateImage, cv2.RETR_EXTERNAL, cv2.CHAIN_APPROX_SIMPLE)\n",
        "mean_row = np.array([c[:, 0].mean(0)[1] for c in contours])\n",
        "min_row = np.array([c[:, 0].min(0)[1] for c in contours], dtype='int')\n",
        "max_row = np.array([c[:, 0].max(0)[1] for c in contours], dtype='int')\n",
        "min_col = np.array([c[:, 0].min(0)[0] for c in contours], dtype='int')\n",
        "max_col = np.array([c[:, 0].max(0)[0] for c in contours], dtype='int')\n",
        "row_idx = np.argsort(mean_row)\n",
        "words = []\n",
        "\n",
        "for idx in range(len(row_idx)):\n",
        "    xx = cv2.drawContours(np.zeros_like(image, dtype='uint8'), contours, row_idx[idx], (1, 1, 1), thickness=-1)\n",
        "    im = (1 - inputcopy) * xx\n",
        "    im = im[min_row[row_idx[idx]]:max_row[row_idx[idx]], min_col[row_idx[idx]]:max_col[row_idx[idx]]]\n",
        "    gray = cv2.cvtColor(im, cv2.COLOR_BGR2GRAY)\n",
        "    sharpened = cv2.filter2D(1 - gray, -1, kernel)\n",
        "\n",
        "    thresh1 = (gray < 100).astype('uint8') * 255\n",
        "    thresh2 = cv2.adaptiveThreshold(sharpened, 255, cv2.ADAPTIVE_THRESH_MEAN_C, cv2.THRESH_BINARY_INV, 21, 10)\n",
        "    padded = cv2.copyMakeBorder(thresh1.copy(), 10, 10, 10, 10, cv2.BORDER_CONSTANT,value=(255,))\n",
        "    word = pytesseract.image_to_string(padded, lang='tha').replace(\"_\",\"[!und:]\").replace(\" \",\"[!und:]\").replace('\\x0c', '').replace('\\n', '')\n",
        "    print(word)\n",
        "    if len(word) == 0:\n",
        "        word = '[!und:]'\n",
        "    words.append(word)\n",
        "    preds.append(nlp(word)[0]['entity'])\n",
        "words, preds"
      ],
      "metadata": {
        "trusted": true,
        "id": "_ynYgMMAV20X"
      },
      "execution_count": null,
      "outputs": []
    },
    {
      "cell_type": "markdown",
      "source": [
        "## read each word"
      ],
      "metadata": {
        "id": "wxpsOMSGV20Y"
      }
    },
    {
      "cell_type": "code",
      "source": [
        "import pytesseract\n",
        "\n",
        "def crop_image(image):\n",
        "    grayinput = cv2.cvtColor(image, cv2.COLOR_BGR2GRAY)\n",
        "    _, binaryImage = cv2.threshold(grayinput, 0, 255, cv2.THRESH_BINARY_INV + cv2.THRESH_OTSU)\n",
        "    kernelSize = (5, 5)\n",
        "    opIterations = 2\n",
        "    morphKernel = cv2.getStructuringElement(cv2.MORPH_RECT, kernelSize)\n",
        "    dilateImage = cv2.morphologyEx(\n",
        "        binaryImage,\n",
        "        cv2.MORPH_DILATE,\n",
        "        morphKernel,\n",
        "        None,\n",
        "        None,\n",
        "        opIterations,\n",
        "        cv2.BORDER_REFLECT101\n",
        "        )\n",
        "    contours, _ = cv2.findContours(dilateImage, cv2.RETR_EXTERNAL, cv2.CHAIN_APPROX_SIMPLE)\n",
        "    mean_row = np.array([c[:, 0].mean(0)[1] for c in contours])\n",
        "    min_row = np.array([c[:, 0].min(0)[1] for c in contours], dtype='int')\n",
        "    max_row = np.array([c[:, 0].max(0)[1] for c in contours], dtype='int')\n",
        "    min_col = np.array([c[:, 0].min(0)[0] for c in contours], dtype='int')\n",
        "    max_col = np.array([c[:, 0].max(0)[0] for c in contours], dtype='int')\n",
        "    row_idx = np.argsort(mean_row)\n",
        "    return row_idx, contours, min_row, max_row, min_col, max_col\n",
        "\n",
        "def image_to_words(row_idx, contours, min_row, max_row, min_col, max_col, image):\n",
        "    words = []\n",
        "    for idx in range(len(row_idx)):\n",
        "        im = image[min_row[row_idx[idx]]:max_row[row_idx[idx]], min_col[row_idx[idx]]:max_col[row_idx[idx]]]\n",
        "        word = pytesseract.image_to_string(im, lang='tha').replace(\"_\",\"[!und:]\").replace(\" \",\"[!und:]\").replace('\\x0c', '').replace('\\n', '')\n",
        "        if len(word) == 0:\n",
        "            word = '-'\n",
        "        words.append(word)\n",
        "    return words"
      ],
      "metadata": {
        "execution": {
          "iopub.status.busy": "2024-03-09T10:47:51.538605Z",
          "iopub.execute_input": "2024-03-09T10:47:51.539548Z",
          "iopub.status.idle": "2024-03-09T10:47:51.550572Z",
          "shell.execute_reply.started": "2024-03-09T10:47:51.539509Z",
          "shell.execute_reply": "2024-03-09T10:47:51.549656Z"
        },
        "trusted": true,
        "id": "ACdHaqb4V20Y"
      },
      "execution_count": null,
      "outputs": []
    },
    {
      "cell_type": "code",
      "source": [
        "image = Image.open(\"/kaggle/input/nithan-chadok-hybrid-ocr-ner/images/images/00001.jpg\")\n",
        "image = np.array(image)\n",
        "inputcopy = deskew(image)\n",
        "row_idx, contours, min_row, max_row, min_col, max_col = crop_image(inputcopy)\n",
        "\n",
        "num_rows = 2\n",
        "num_cols = 7\n",
        "fig, axes = plt.subplots(num_rows, num_cols, figsize=(10, 3))\n",
        "\n",
        "for idx, ax in enumerate(axes.flat):\n",
        "    if idx < len(row_idx):\n",
        "        im = inputcopy[min_row[row_idx[idx]]:max_row[row_idx[idx]], min_col[row_idx[idx]]:max_col[row_idx[idx]]]\n",
        "        ax.imshow(im, cmap='gray')\n",
        "        ax.axis('off')\n",
        "    else:\n",
        "        ax.axis('off')\n",
        "\n",
        "plt.tight_layout()\n",
        "plt.show()"
      ],
      "metadata": {
        "execution": {
          "iopub.status.busy": "2024-03-09T10:48:23.216108Z",
          "iopub.execute_input": "2024-03-09T10:48:23.216536Z",
          "iopub.status.idle": "2024-03-09T10:48:23.76135Z",
          "shell.execute_reply.started": "2024-03-09T10:48:23.216508Z",
          "shell.execute_reply": "2024-03-09T10:48:23.760064Z"
        },
        "trusted": true,
        "id": "qJMLoyVSV20Y"
      },
      "execution_count": null,
      "outputs": []
    },
    {
      "cell_type": "code",
      "source": [
        "words = image_to_words(row_idx, contours, min_row, max_row, min_col, max_col, image)\n",
        "print(words)"
      ],
      "metadata": {
        "execution": {
          "iopub.status.busy": "2024-03-09T10:45:04.227833Z",
          "iopub.execute_input": "2024-03-09T10:45:04.228245Z",
          "iopub.status.idle": "2024-03-09T10:45:04.832188Z",
          "shell.execute_reply.started": "2024-03-09T10:45:04.228204Z",
          "shell.execute_reply": "2024-03-09T10:45:04.831005Z"
        },
        "trusted": true,
        "id": "ZGIDCeaTV20Y"
      },
      "execution_count": null,
      "outputs": []
    },
    {
      "cell_type": "markdown",
      "source": [
        "# submit"
      ],
      "metadata": {
        "id": "REWaZ9UjV20Z"
      }
    },
    {
      "cell_type": "markdown",
      "source": [
        "## transform & load data"
      ],
      "metadata": {
        "id": "8gYppRx7V20Z"
      }
    },
    {
      "cell_type": "code",
      "source": [
        "src = '/kaggle/input/nithan-chadok-hybrid-ocr-ner/images/images'\n",
        "txt = []\n",
        "\n",
        "for i in tqdm(range(len(os.listdir(src)))):\n",
        "    image = Image.open(f'{src}/{i:05d}.jpg')\n",
        "    image = np.array(image)\n",
        "    inputcopy = deskew(image)\n",
        "    row_idx, contours, min_row, max_row, min_col, max_col = crop_image(inputcopy)\n",
        "    words = image_to_words(row_idx, contours, min_row, max_row, min_col, max_col, inputcopy)\n",
        "    txt.extend(words)\n",
        "\n",
        "print(len(txt))"
      ],
      "metadata": {
        "trusted": true,
        "id": "_qiiBDhkV20Z"
      },
      "execution_count": null,
      "outputs": []
    },
    {
      "cell_type": "code",
      "source": [
        "df = pd.DataFrame({'Text': txt})\n",
        "df.to_csv('text_data.csv', index=False)"
      ],
      "metadata": {
        "execution": {
          "iopub.status.busy": "2024-03-08T20:07:46.927435Z",
          "iopub.execute_input": "2024-03-08T20:07:46.927861Z",
          "iopub.status.idle": "2024-03-08T20:07:46.977066Z",
          "shell.execute_reply.started": "2024-03-08T20:07:46.927829Z",
          "shell.execute_reply": "2024-03-08T20:07:46.975945Z"
        },
        "trusted": true,
        "id": "g1_8lQI1V20Z"
      },
      "execution_count": null,
      "outputs": []
    },
    {
      "cell_type": "markdown",
      "source": [
        "## read text data"
      ],
      "metadata": {
        "id": "ddyVZirsV20Z"
      }
    },
    {
      "cell_type": "code",
      "source": [
        "NER_TAGS = [\n",
        "       \"O\",\n",
        "        \"B_BRN\",        \"B_DES\",        \"B_DTM\",        \"B_LOC\",        \"B_MEA\",        \"B_NUM\",        \"B_ORG\",        \"B_PER\",        \"B_TRM\",        \"B_TTL\",\n",
        "       \"I_BRN\",        \"I_DES\",        \"I_DTM\",        \"I_LOC\",        \"I_MEA\",        \"I_NUM\",        \"I_ORG\",        \"I_PER\",        \"I_TRM\",        \"I_TTL\",\n",
        "        \"E_BRN\",        \"E_DES\",        \"E_DTM\",        \"E_LOC\",        \"E_MEA\",        \"E_NUM\",        \"E_ORG\",        \"E_PER\",        \"E_TRM\",        \"E_TTL\"]"
      ],
      "metadata": {
        "execution": {
          "iopub.status.busy": "2024-03-08T23:24:49.224925Z",
          "iopub.execute_input": "2024-03-08T23:24:49.225312Z",
          "iopub.status.idle": "2024-03-08T23:24:49.230811Z",
          "shell.execute_reply.started": "2024-03-08T23:24:49.225286Z",
          "shell.execute_reply": "2024-03-08T23:24:49.22984Z"
        },
        "trusted": true,
        "id": "ySfQwRSMV20Z"
      },
      "execution_count": null,
      "outputs": []
    },
    {
      "cell_type": "code",
      "source": [
        "# txt = pd.read_csv('/kaggle/input/testdata-teserac/text_data.csv')\n",
        "txt = pd.read_csv('/kaggle/input/deskew-combine/text_combine_norm1_de2.csv')\n",
        "txt = txt['txt']\n",
        "txt"
      ],
      "metadata": {
        "execution": {
          "iopub.status.busy": "2024-03-08T23:24:54.418097Z",
          "iopub.execute_input": "2024-03-08T23:24:54.419074Z",
          "iopub.status.idle": "2024-03-08T23:24:54.450504Z",
          "shell.execute_reply.started": "2024-03-08T23:24:54.419043Z",
          "shell.execute_reply": "2024-03-08T23:24:54.449539Z"
        },
        "trusted": true,
        "id": "OLFKEtXaV20a"
      },
      "execution_count": null,
      "outputs": []
    },
    {
      "cell_type": "markdown",
      "source": [
        "## read model"
      ],
      "metadata": {
        "id": "LHIp55W3V20a"
      }
    },
    {
      "cell_type": "code",
      "source": [
        "!pip install -q simpletransformers"
      ],
      "metadata": {
        "execution": {
          "iopub.status.busy": "2024-03-08T23:15:45.159988Z",
          "iopub.execute_input": "2024-03-08T23:15:45.160885Z",
          "iopub.status.idle": "2024-03-08T23:15:58.168621Z",
          "shell.execute_reply.started": "2024-03-08T23:15:45.160853Z",
          "shell.execute_reply": "2024-03-08T23:15:58.167522Z"
        },
        "trusted": true,
        "id": "xj8s7KAnV20a"
      },
      "execution_count": null,
      "outputs": []
    },
    {
      "cell_type": "code",
      "source": [
        "import torch\n",
        "from simpletransformers.ner import NERModel, NERArgs\n",
        "\n",
        "ner_args = NERArgs()\n",
        "ner_args.eval_batch_size = 8\n",
        "ner_args.use_multiprocessing = True\n",
        "ner_args.max_seq_length = 512\n",
        "model = NERModel(\n",
        "     \"auto\", \"thanaphatt1/WangchanBERTa-LST20\", args=ner_args, use_cuda=torch.cuda.is_available(), labels= NER_TAGS\n",
        ")"
      ],
      "metadata": {
        "execution": {
          "iopub.status.busy": "2024-03-08T23:16:22.59246Z",
          "iopub.execute_input": "2024-03-08T23:16:22.593308Z",
          "iopub.status.idle": "2024-03-08T23:16:43.90378Z",
          "shell.execute_reply.started": "2024-03-08T23:16:22.593277Z",
          "shell.execute_reply": "2024-03-08T23:16:43.902954Z"
        },
        "trusted": true,
        "id": "IG_BYT8VV20a"
      },
      "execution_count": null,
      "outputs": []
    },
    {
      "cell_type": "code",
      "source": [
        "def split_into_sentences(tokens, tokens_per_sentence):\n",
        "    sentences = []\n",
        "    for i in range(0, len(tokens), tokens_per_sentence):\n",
        "        sentence = tokens[i:i+tokens_per_sentence]\n",
        "        sentences.append(sentence)\n",
        "    return sentences"
      ],
      "metadata": {
        "execution": {
          "iopub.status.busy": "2024-03-08T23:24:59.806274Z",
          "iopub.execute_input": "2024-03-08T23:24:59.806998Z",
          "iopub.status.idle": "2024-03-08T23:24:59.811902Z",
          "shell.execute_reply.started": "2024-03-08T23:24:59.806959Z",
          "shell.execute_reply": "2024-03-08T23:24:59.810865Z"
        },
        "trusted": true,
        "id": "p1dV7Za2V20a"
      },
      "execution_count": null,
      "outputs": []
    },
    {
      "cell_type": "markdown",
      "source": [
        "## token & prediction"
      ],
      "metadata": {
        "id": "6dBCUSEqV20b"
      }
    },
    {
      "cell_type": "code",
      "source": [
        "test_tokens_1 = split_into_sentences(txt, 224)\n",
        "pred_1 = model.predict(test_tokens_1, False)"
      ],
      "metadata": {
        "execution": {
          "iopub.status.busy": "2024-03-08T23:25:03.558907Z",
          "iopub.execute_input": "2024-03-08T23:25:03.559269Z",
          "iopub.status.idle": "2024-03-08T23:25:14.781794Z",
          "shell.execute_reply.started": "2024-03-08T23:25:03.559245Z",
          "shell.execute_reply": "2024-03-08T23:25:14.780728Z"
        },
        "trusted": true,
        "id": "Jo9kc4RdV20b"
      },
      "execution_count": null,
      "outputs": []
    },
    {
      "cell_type": "code",
      "source": [
        "test_tokens_2 = split_into_sentences(txt, 196)\n",
        "pred_2 = model.predict(test_tokens_2, False)"
      ],
      "metadata": {
        "execution": {
          "iopub.status.busy": "2024-03-08T23:25:32.53585Z",
          "iopub.execute_input": "2024-03-08T23:25:32.536513Z",
          "iopub.status.idle": "2024-03-08T23:25:44.15629Z",
          "shell.execute_reply.started": "2024-03-08T23:25:32.536481Z",
          "shell.execute_reply": "2024-03-08T23:25:44.155405Z"
        },
        "trusted": true,
        "id": "Zc7Z0EBdV20b"
      },
      "execution_count": null,
      "outputs": []
    },
    {
      "cell_type": "code",
      "source": [
        "test_tokens_3 = split_into_sentences(txt, 210)\n",
        "pred_3 = model.predict(test_tokens_3, False)"
      ],
      "metadata": {
        "execution": {
          "iopub.status.busy": "2024-03-08T23:25:17.351744Z",
          "iopub.execute_input": "2024-03-08T23:25:17.352404Z",
          "iopub.status.idle": "2024-03-08T23:25:28.190126Z",
          "shell.execute_reply.started": "2024-03-08T23:25:17.352373Z",
          "shell.execute_reply": "2024-03-08T23:25:28.189245Z"
        },
        "trusted": true,
        "id": "IUyKU_gcV20b"
      },
      "execution_count": null,
      "outputs": []
    },
    {
      "cell_type": "code",
      "source": [
        "tag_df = pd.read_csv('/kaggle/input/nithan-chadok-hybrid-ocr-ner/tag_list.csv')\n",
        "tag_df"
      ],
      "metadata": {
        "execution": {
          "iopub.status.busy": "2024-03-08T23:25:52.044251Z",
          "iopub.execute_input": "2024-03-08T23:25:52.044622Z",
          "iopub.status.idle": "2024-03-08T23:25:52.068407Z",
          "shell.execute_reply.started": "2024-03-08T23:25:52.044593Z",
          "shell.execute_reply": "2024-03-08T23:25:52.067467Z"
        },
        "trusted": true,
        "id": "AWn19P5IV20b"
      },
      "execution_count": null,
      "outputs": []
    },
    {
      "cell_type": "markdown",
      "source": [
        "### compare"
      ],
      "metadata": {
        "id": "_HcFi7pCV20j"
      }
    },
    {
      "cell_type": "code",
      "source": [
        "final_1 = []\n",
        "final_2 = []\n",
        "final_3 = []\n",
        "\n",
        "for i in pred_1[0]:\n",
        "    for j in i:\n",
        "        for k in j.values():\n",
        "            result = tag_df[tag_df['tag'] == k]['class'].values[0]\n",
        "            final_1.append(result)\n",
        "\n",
        "for i in pred_2[0]:\n",
        "    for j in i:\n",
        "        for k in j.values():\n",
        "            result = tag_df[tag_df['tag'] == k]['class'].values[0]\n",
        "            final_2.append(result)\n",
        "\n",
        "for i in pred_3[0]:\n",
        "    for j in i:\n",
        "        for k in j.values():\n",
        "            result = tag_df[tag_df['tag'] == k]['class'].values[0]\n",
        "            final_3.append(result)\n",
        "\n",
        "print(len(final_1))\n",
        "print(len(final_2))\n",
        "print(len(final_3))"
      ],
      "metadata": {
        "execution": {
          "iopub.status.busy": "2024-03-08T23:26:10.515151Z",
          "iopub.execute_input": "2024-03-08T23:26:10.515549Z",
          "iopub.status.idle": "2024-03-08T23:27:15.719274Z",
          "shell.execute_reply.started": "2024-03-08T23:26:10.515521Z",
          "shell.execute_reply": "2024-03-08T23:27:15.718313Z"
        },
        "trusted": true,
        "id": "yijPGMTlV20j"
      },
      "execution_count": null,
      "outputs": []
    },
    {
      "cell_type": "code",
      "source": [
        "submit_1 = pd.read_csv('/kaggle/input/nithan-chadok-hybrid-ocr-ner/sample_submission.csv')\n",
        "submit_2, submit_3 = submit_1.copy(), submit_1.copy()\n",
        "# submit_3 = pd.read_csv('/kaggle/input/thapat-210/thapat_210.csv')\n",
        "\n",
        "submit_1"
      ],
      "metadata": {
        "execution": {
          "iopub.status.busy": "2024-03-08T23:28:35.285652Z",
          "iopub.execute_input": "2024-03-08T23:28:35.286091Z",
          "iopub.status.idle": "2024-03-08T23:28:35.311216Z",
          "shell.execute_reply.started": "2024-03-08T23:28:35.286064Z",
          "shell.execute_reply": "2024-03-08T23:28:35.310328Z"
        },
        "trusted": true,
        "id": "hFxn5sLpV20j"
      },
      "execution_count": null,
      "outputs": []
    },
    {
      "cell_type": "code",
      "source": [
        "submit_1['pred'] = pd.DataFrame(final_1)\n",
        "submit_2['pred'] = pd.DataFrame(final_2)\n",
        "submit_3['pred'] = pd.DataFrame(final_3)\n",
        "submit_1"
      ],
      "metadata": {
        "execution": {
          "iopub.status.busy": "2024-03-08T23:28:42.034273Z",
          "iopub.execute_input": "2024-03-08T23:28:42.034619Z",
          "iopub.status.idle": "2024-03-08T23:28:42.716498Z",
          "shell.execute_reply.started": "2024-03-08T23:28:42.034594Z",
          "shell.execute_reply": "2024-03-08T23:28:42.715435Z"
        },
        "trusted": true,
        "id": "UPey6pqrV20k"
      },
      "execution_count": null,
      "outputs": []
    },
    {
      "cell_type": "code",
      "source": [
        "compare = pd.concat([submit_1['Id'], submit_1['pred'], submit_2['pred'], submit_3['pred']], axis=1)\n",
        "compare.columns=['id','224','196', '210']"
      ],
      "metadata": {
        "execution": {
          "iopub.status.busy": "2024-03-08T23:28:45.328132Z",
          "iopub.execute_input": "2024-03-08T23:28:45.329037Z",
          "iopub.status.idle": "2024-03-08T23:28:45.335892Z",
          "shell.execute_reply.started": "2024-03-08T23:28:45.329006Z",
          "shell.execute_reply": "2024-03-08T23:28:45.334842Z"
        },
        "trusted": true,
        "id": "OUgMyzDnV20k"
      },
      "execution_count": null,
      "outputs": []
    },
    {
      "cell_type": "code",
      "source": [
        "compare[compare['224'] != compare['196']]"
      ],
      "metadata": {
        "execution": {
          "iopub.status.busy": "2024-03-08T23:28:47.380518Z",
          "iopub.execute_input": "2024-03-08T23:28:47.381287Z",
          "iopub.status.idle": "2024-03-08T23:28:47.395181Z",
          "shell.execute_reply.started": "2024-03-08T23:28:47.381255Z",
          "shell.execute_reply": "2024-03-08T23:28:47.394153Z"
        },
        "trusted": true,
        "id": "k_vrsRcjV20k"
      },
      "execution_count": null,
      "outputs": []
    },
    {
      "cell_type": "code",
      "source": [
        "compare[compare['224'] != compare['210']]"
      ],
      "metadata": {
        "execution": {
          "iopub.status.busy": "2024-03-08T23:28:50.075193Z",
          "iopub.execute_input": "2024-03-08T23:28:50.075554Z",
          "iopub.status.idle": "2024-03-08T23:28:50.087669Z",
          "shell.execute_reply.started": "2024-03-08T23:28:50.075529Z",
          "shell.execute_reply": "2024-03-08T23:28:50.086636Z"
        },
        "trusted": true,
        "id": "mXs7ElBhV20l"
      },
      "execution_count": null,
      "outputs": []
    },
    {
      "cell_type": "code",
      "source": [
        "compare[compare['196'] != compare['210']]"
      ],
      "metadata": {
        "execution": {
          "iopub.status.busy": "2024-03-08T23:28:52.613304Z",
          "iopub.execute_input": "2024-03-08T23:28:52.614021Z",
          "iopub.status.idle": "2024-03-08T23:28:52.62614Z",
          "shell.execute_reply.started": "2024-03-08T23:28:52.613992Z",
          "shell.execute_reply": "2024-03-08T23:28:52.625145Z"
        },
        "trusted": true,
        "id": "zzwwgSBKV20l"
      },
      "execution_count": null,
      "outputs": []
    },
    {
      "cell_type": "code",
      "source": [
        "submit_1.to_csv('deskew_224.csv', index=False)"
      ],
      "metadata": {
        "execution": {
          "iopub.status.busy": "2024-03-08T23:31:52.52392Z",
          "iopub.execute_input": "2024-03-08T23:31:52.52426Z",
          "iopub.status.idle": "2024-03-08T23:31:52.600782Z",
          "shell.execute_reply.started": "2024-03-08T23:31:52.524236Z",
          "shell.execute_reply": "2024-03-08T23:31:52.599852Z"
        },
        "trusted": true,
        "id": "DCcaFWWDV20l"
      },
      "execution_count": null,
      "outputs": []
    },
    {
      "cell_type": "code",
      "source": [
        "submit_2.to_csv('thapat_196.csv', index=False)"
      ],
      "metadata": {
        "execution": {
          "iopub.status.busy": "2024-03-08T22:43:46.138855Z",
          "iopub.execute_input": "2024-03-08T22:43:46.14001Z",
          "iopub.status.idle": "2024-03-08T22:43:46.226178Z",
          "shell.execute_reply.started": "2024-03-08T22:43:46.139977Z",
          "shell.execute_reply": "2024-03-08T22:43:46.22532Z"
        },
        "trusted": true,
        "id": "ERBvs0zSV20l"
      },
      "execution_count": null,
      "outputs": []
    },
    {
      "cell_type": "code",
      "source": [
        "submit_3.to_csv('thapat_210.csv', index=False)"
      ],
      "metadata": {
        "execution": {
          "iopub.status.busy": "2024-03-08T20:41:56.4121Z",
          "iopub.execute_input": "2024-03-08T20:41:56.412967Z",
          "iopub.status.idle": "2024-03-08T20:41:56.491233Z",
          "shell.execute_reply.started": "2024-03-08T20:41:56.412935Z",
          "shell.execute_reply": "2024-03-08T20:41:56.49049Z"
        },
        "trusted": true,
        "id": "LHiIzOALV20m"
      },
      "execution_count": null,
      "outputs": []
    },
    {
      "cell_type": "code",
      "source": [
        "import torch\n",
        "torch.cuda.empty_cache()\n",
        "!rm -r /kaggle/working/*"
      ],
      "metadata": {
        "trusted": true,
        "id": "ZNeQkKYMV20m"
      },
      "execution_count": null,
      "outputs": []
    },
    {
      "cell_type": "markdown",
      "source": [
        "### ensemble mod"
      ],
      "metadata": {
        "id": "zdGxKVP-V20m"
      }
    },
    {
      "cell_type": "code",
      "source": [
        "df_ensemble = pd.concat([submit_1, submit_2, submit_3])\n",
        "df_ensemble = df_ensemble.groupby(\"Id\")[\"pred\"].apply(lambda x: x.mode()[0]).reset_index()\n",
        "df_ensemble"
      ],
      "metadata": {
        "execution": {
          "iopub.status.busy": "2024-03-08T23:29:29.749372Z",
          "iopub.execute_input": "2024-03-08T23:29:29.750135Z",
          "iopub.status.idle": "2024-03-08T23:29:37.969193Z",
          "shell.execute_reply.started": "2024-03-08T23:29:29.750104Z",
          "shell.execute_reply": "2024-03-08T23:29:37.968235Z"
        },
        "trusted": true,
        "id": "attICgmjV20n"
      },
      "execution_count": null,
      "outputs": []
    },
    {
      "cell_type": "code",
      "source": [
        "compare_2 = pd.concat([df_ensemble['Id'], df_ensemble['pred'], submit_1['pred']], axis=1)\n",
        "compare_2.columns=['id','ens', '224']"
      ],
      "metadata": {
        "execution": {
          "iopub.status.busy": "2024-03-08T23:30:56.461958Z",
          "iopub.execute_input": "2024-03-08T23:30:56.462336Z",
          "iopub.status.idle": "2024-03-08T23:30:56.469537Z",
          "shell.execute_reply.started": "2024-03-08T23:30:56.462309Z",
          "shell.execute_reply": "2024-03-08T23:30:56.468539Z"
        },
        "trusted": true,
        "id": "QdojdP2DV20n"
      },
      "execution_count": null,
      "outputs": []
    },
    {
      "cell_type": "code",
      "source": [
        "compare_2[compare_2['ens'] != compare_2['224']]"
      ],
      "metadata": {
        "execution": {
          "iopub.status.busy": "2024-03-08T23:31:02.62057Z",
          "iopub.execute_input": "2024-03-08T23:31:02.621472Z",
          "iopub.status.idle": "2024-03-08T23:31:02.634697Z",
          "shell.execute_reply.started": "2024-03-08T23:31:02.621439Z",
          "shell.execute_reply": "2024-03-08T23:31:02.63375Z"
        },
        "trusted": true,
        "id": "pvGBPnX-V20n"
      },
      "execution_count": null,
      "outputs": []
    },
    {
      "cell_type": "code",
      "source": [
        "df_ensemble.to_csv('deskew_224_196_210.csv', index=False)"
      ],
      "metadata": {
        "execution": {
          "iopub.status.busy": "2024-03-08T23:31:36.977448Z",
          "iopub.execute_input": "2024-03-08T23:31:36.978342Z",
          "iopub.status.idle": "2024-03-08T23:31:37.057084Z",
          "shell.execute_reply.started": "2024-03-08T23:31:36.978309Z",
          "shell.execute_reply": "2024-03-08T23:31:37.056072Z"
        },
        "trusted": true,
        "id": "8kD2fOl9V20n"
      },
      "execution_count": null,
      "outputs": []
    },
    {
      "cell_type": "code",
      "source": [],
      "metadata": {
        "id": "BYLjMLdyV20o"
      },
      "execution_count": null,
      "outputs": []
    }
  ]
}