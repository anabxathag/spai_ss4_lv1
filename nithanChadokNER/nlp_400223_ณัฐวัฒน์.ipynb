{
  "metadata": {
    "kernelspec": {
      "language": "python",
      "display_name": "Python 3",
      "name": "python3"
    },
    "language_info": {
      "name": "python",
      "version": "3.10.13",
      "mimetype": "text/x-python",
      "codemirror_mode": {
        "name": "ipython",
        "version": 3
      },
      "pygments_lexer": "ipython3",
      "nbconvert_exporter": "python",
      "file_extension": ".py"
    },
    "kaggle": {
      "accelerator": "none",
      "dataSources": [
        {
          "sourceId": 71609,
          "databundleVersionId": 7833551,
          "sourceType": "competition"
        },
        {
          "sourceId": 7736495,
          "sourceType": "datasetVersion",
          "datasetId": 4521401
        },
        {
          "sourceId": 7743359,
          "sourceType": "datasetVersion",
          "datasetId": 4526188
        },
        {
          "sourceId": 7744876,
          "sourceType": "datasetVersion",
          "datasetId": 4527290
        },
        {
          "sourceId": 7745033,
          "sourceType": "datasetVersion",
          "datasetId": 4527403
        }
      ],
      "dockerImageVersionId": 30664,
      "isInternetEnabled": true,
      "language": "python",
      "sourceType": "notebook",
      "isGpuEnabled": false
    },
    "colab": {
      "provenance": [],
      "toc_visible": true
    }
  },
  "nbformat_minor": 0,
  "nbformat": 4,
  "cells": [
    {
      "source": [
        "\n",
        "# IMPORTANT: RUN THIS CELL IN ORDER TO IMPORT YOUR KAGGLE DATA SOURCES\n",
        "# TO THE CORRECT LOCATION (/kaggle/input) IN YOUR NOTEBOOK,\n",
        "# THEN FEEL FREE TO DELETE THIS CELL.\n",
        "# NOTE: THIS NOTEBOOK ENVIRONMENT DIFFERS FROM KAGGLE'S PYTHON\n",
        "# ENVIRONMENT SO THERE MAY BE MISSING LIBRARIES USED BY YOUR\n",
        "# NOTEBOOK.\n",
        "\n",
        "import os\n",
        "import sys\n",
        "from tempfile import NamedTemporaryFile\n",
        "from urllib.request import urlopen\n",
        "from urllib.parse import unquote, urlparse\n",
        "from urllib.error import HTTPError\n",
        "from zipfile import ZipFile\n",
        "import tarfile\n",
        "import shutil\n",
        "\n",
        "CHUNK_SIZE = 40960\n",
        "DATA_SOURCE_MAPPING = 'nithan-chadok-name-entity-recognition:https%3A%2F%2Fstorage.googleapis.com%2Fkaggle-competitions-data%2Fkaggle-v2%2F71609%2F7833551%2Fbundle%2Farchive.zip%3FX-Goog-Algorithm%3DGOOG4-RSA-SHA256%26X-Goog-Credential%3Dgcp-kaggle-com%2540kaggle-161607.iam.gserviceaccount.com%252F20240308%252Fauto%252Fstorage%252Fgoog4_request%26X-Goog-Date%3D20240308T125849Z%26X-Goog-Expires%3D259200%26X-Goog-SignedHeaders%3Dhost%26X-Goog-Signature%3D07bf986af011e32bb07c08454b9d6232288f08d1eff662b7498d5eb8458061df2bfd0707456e3b6c5d803f7829c27a93028aa9cd36d121de698342cf018a63496dd4a86d5d24c32c6f11834329c69a6407607c34726720e2155a7a62279d73143b5c41d1ac3c155c874b6ca2248588442f0bea9682c2ddd630f170d4e2c795a15e362ed3a56fcddfd11091508a3a9a7680ce1b0b734114794e75e45a57e59f6204ee9265e59421b34f662db0f708f79d7b74d016756902fc6e5a7433a72d2b0c538809d4563eb2e03d4aa1f626739885176adb78794db331f3c244888df70f262128fc7f960abfe987ea658a701e6d815cc6c1015610383f181011ffebf3dd1e,lst20-thai:https%3A%2F%2Fstorage.googleapis.com%2Fkaggle-data-sets%2F4521401%2F7736495%2Fbundle%2Farchive.zip%3FX-Goog-Algorithm%3DGOOG4-RSA-SHA256%26X-Goog-Credential%3Dgcp-kaggle-com%2540kaggle-161607.iam.gserviceaccount.com%252F20240308%252Fauto%252Fstorage%252Fgoog4_request%26X-Goog-Date%3D20240308T125849Z%26X-Goog-Expires%3D259200%26X-Goog-SignedHeaders%3Dhost%26X-Goog-Signature%3D2afc4a24b0850021e463c05f3c271d57d2840789deeea373d4f45dbecde2c2b009a0800bb55c30767a743308ea7473cc3b315bfbd692a41bd434b22bb59f11db377c4f4caed21ea7c3c2a5677b54ada7f60300115cdc6aa6b016787aa0f207c2a59c0fba13e6e7dbc3e7be0c3082f47b3af8a34890f40d20c5b86d33a9073a6ee07fe709c2aa0a2891f3ac0bb288227c4e0c68116f7b29c58271bd67af35d4572d68e6366e0ee8f202a05562e8c923780a95b56390176494f03cba3792149812080ab8c5cdf0f30bbe1c75434b312e24fddd0b856950f3548968e7eeecdd005693c19a1ae941f38017153fa8ff9987c6641f2e65f990c76483810eca4c37d07e,thanapat-berta-15:https%3A%2F%2Fstorage.googleapis.com%2Fkaggle-data-sets%2F4526188%2F7743359%2Fbundle%2Farchive.zip%3FX-Goog-Algorithm%3DGOOG4-RSA-SHA256%26X-Goog-Credential%3Dgcp-kaggle-com%2540kaggle-161607.iam.gserviceaccount.com%252F20240308%252Fauto%252Fstorage%252Fgoog4_request%26X-Goog-Date%3D20240308T125849Z%26X-Goog-Expires%3D259200%26X-Goog-SignedHeaders%3Dhost%26X-Goog-Signature%3D0586d22f7dfa435937395c5a05da0cdaffdbca729c93e959ba5796f17c1b8317c55596c43f11d8f6e2f31dc172d5e3b7bc507f20c135cf8fdfdc4df459c2b8017a228087c85031d9d4b1c3db7013f562c504e3e02b07a356355ca98c42c8c711fa840dac5fc2834db42e7db9d57478486500378eb2b0199a05f0ae66d88afab4ada242b9c192e83a8e73037eb8f54c849b41c0d54a884e8551cec56052220b109b8a97469dbc18ea00f20ebd5741d1f5fe64c54080f6a2503117937bc9dbc836356b42210c1db516403c4562d72e2aaae83293442de0eff61146aad848078eaaf8a57f76e7460a6eb4426d5affbf8d6606029a437c72fcb4fa37235eaa933634,roberta-xml:https%3A%2F%2Fstorage.googleapis.com%2Fkaggle-data-sets%2F4527290%2F7744876%2Fbundle%2Farchive.zip%3FX-Goog-Algorithm%3DGOOG4-RSA-SHA256%26X-Goog-Credential%3Dgcp-kaggle-com%2540kaggle-161607.iam.gserviceaccount.com%252F20240308%252Fauto%252Fstorage%252Fgoog4_request%26X-Goog-Date%3D20240308T125849Z%26X-Goog-Expires%3D259200%26X-Goog-SignedHeaders%3Dhost%26X-Goog-Signature%3D584fe6b7522d022446ced4334f639e8127a6728a88cc71a5744f6b23d2a389cb34645aa8accbe6f09629c8772c580d89568f973be6497c3e79937c46ab9830d5e2a4b2439ea465db49522c9e635c9983afc8025f85363eb6df9d710dfa2005363ef21efea30c5220afb95743b728c04550b1109fd4add0f890a6df202011bb93ecb8f53ac2c2ae30c0911c6c97f1879926c3bda4dfa9be91369d9d1e493939d4b15c0dc2149430f0f9715804f9838d549cea58c75b92ac3d8e3643bb3b412f9c4ef3b0e720f5b26c95fb67bb8aa94deacdd92db731c7d73034948d8b6ff16ab834833e752df6fea4235bf15cabac3e5dffd477b38d6332bf4aa134312319a3c5,thanapat-wang225:https%3A%2F%2Fstorage.googleapis.com%2Fkaggle-data-sets%2F4527403%2F7745033%2Fbundle%2Farchive.zip%3FX-Goog-Algorithm%3DGOOG4-RSA-SHA256%26X-Goog-Credential%3Dgcp-kaggle-com%2540kaggle-161607.iam.gserviceaccount.com%252F20240308%252Fauto%252Fstorage%252Fgoog4_request%26X-Goog-Date%3D20240308T125849Z%26X-Goog-Expires%3D259200%26X-Goog-SignedHeaders%3Dhost%26X-Goog-Signature%3D5d347de723a39cdab02a8841f0e1a07cb948c8f4d3ed81db5161c2427adf70d968382976795d74776f798dd911d009b1b98d491ac8ef938521aa73e5e25a72a84ee695baa0f88d52a5e6a814ee97c9cfc75745c9c96b4ce2f9fea734f2f5bed5d392750b9120a0bf21b4d458c528b90d2b7cf2d4a7e662b922a4084578fe24b09fe547226dc2a4ac0ee6079ddfd8f5882ebb3ad61c9cd8838a1a6da836d95796921767482da638d88c4be30c597d59a896f7cb9b59150201ca59ef626ee2d692e896af0d8574a7079d23fe58b7a06d9f1225a4ed4eb689d955762987c6bb64c6ef71eefa2ba86c6d247aa7f68e4d897fc2679a027a09927e3aff0deceb277497'\n",
        "\n",
        "KAGGLE_INPUT_PATH='/kaggle/input'\n",
        "KAGGLE_WORKING_PATH='/kaggle/working'\n",
        "KAGGLE_SYMLINK='kaggle'\n",
        "\n",
        "!umount /kaggle/input/ 2> /dev/null\n",
        "shutil.rmtree('/kaggle/input', ignore_errors=True)\n",
        "os.makedirs(KAGGLE_INPUT_PATH, 0o777, exist_ok=True)\n",
        "os.makedirs(KAGGLE_WORKING_PATH, 0o777, exist_ok=True)\n",
        "\n",
        "try:\n",
        "  os.symlink(KAGGLE_INPUT_PATH, os.path.join(\"..\", 'input'), target_is_directory=True)\n",
        "except FileExistsError:\n",
        "  pass\n",
        "try:\n",
        "  os.symlink(KAGGLE_WORKING_PATH, os.path.join(\"..\", 'working'), target_is_directory=True)\n",
        "except FileExistsError:\n",
        "  pass\n",
        "\n",
        "for data_source_mapping in DATA_SOURCE_MAPPING.split(','):\n",
        "    directory, download_url_encoded = data_source_mapping.split(':')\n",
        "    download_url = unquote(download_url_encoded)\n",
        "    filename = urlparse(download_url).path\n",
        "    destination_path = os.path.join(KAGGLE_INPUT_PATH, directory)\n",
        "    try:\n",
        "        with urlopen(download_url) as fileres, NamedTemporaryFile() as tfile:\n",
        "            total_length = fileres.headers['content-length']\n",
        "            print(f'Downloading {directory}, {total_length} bytes compressed')\n",
        "            dl = 0\n",
        "            data = fileres.read(CHUNK_SIZE)\n",
        "            while len(data) > 0:\n",
        "                dl += len(data)\n",
        "                tfile.write(data)\n",
        "                done = int(50 * dl / int(total_length))\n",
        "                sys.stdout.write(f\"\\r[{'=' * done}{' ' * (50-done)}] {dl} bytes downloaded\")\n",
        "                sys.stdout.flush()\n",
        "                data = fileres.read(CHUNK_SIZE)\n",
        "            if filename.endswith('.zip'):\n",
        "              with ZipFile(tfile) as zfile:\n",
        "                zfile.extractall(destination_path)\n",
        "            else:\n",
        "              with tarfile.open(tfile.name) as tarfile:\n",
        "                tarfile.extractall(destination_path)\n",
        "            print(f'\\nDownloaded and uncompressed: {directory}')\n",
        "    except HTTPError as e:\n",
        "        print(f'Failed to load (likely expired) {download_url} to path {destination_path}')\n",
        "        continue\n",
        "    except OSError as e:\n",
        "        print(f'Failed to load {download_url} to path {destination_path}')\n",
        "        continue\n",
        "\n",
        "print('Data source import complete.')\n"
      ],
      "metadata": {
        "id": "q9NzLF1HJR5T"
      },
      "cell_type": "code",
      "outputs": [],
      "execution_count": null
    },
    {
      "cell_type": "code",
      "source": [
        "# This Python 3 environment comes with many helpful analytics libraries installed\n",
        "# It is defined by the kaggle/python Docker image: https://github.com/kaggle/docker-python\n",
        "# For example, here's several helpful packages to load\n",
        "\n",
        "import numpy as np # linear algebra\n",
        "import pandas as pd # data processing, CSV file I/O (e.g. pd.read_csv)\n",
        "\n",
        "# Input data files are available in the read-only \"../input/\" directory\n",
        "# For example, running this (by clicking run or pressing Shift+Enter) will list all files under the input directory\n",
        "\n",
        "import os\n",
        "for dirname, _, filenames in os.walk('/kaggle/input'):\n",
        "    for filename in filenames:\n",
        "        print(os.path.join(dirname, filename))\n",
        "\n",
        "# You can write up to 20GB to the current directory (/kaggle/working/) that gets preserved as output when you create a version using \"Save & Run All\"\n",
        "# You can also write temporary files to /kaggle/temp/, but they won't be saved outside of the current session"
      ],
      "metadata": {
        "_uuid": "8f2839f25d086af736a60e9eeb907d3b93b6e0e5",
        "_cell_guid": "b1076dfc-b9ad-4769-8c92-a6c4dae69d19",
        "trusted": true,
        "id": "10px7-3wJR5W"
      },
      "execution_count": null,
      "outputs": []
    },
    {
      "cell_type": "code",
      "source": [
        "!pip install -q simpletransformers"
      ],
      "metadata": {
        "execution": {
          "iopub.status.busy": "2024-03-02T11:45:34.130465Z",
          "iopub.execute_input": "2024-03-02T11:45:34.1308Z",
          "iopub.status.idle": "2024-03-02T11:45:47.321077Z",
          "shell.execute_reply.started": "2024-03-02T11:45:34.130776Z",
          "shell.execute_reply": "2024-03-02T11:45:47.319778Z"
        },
        "trusted": true,
        "id": "sGarKxQuJR5W"
      },
      "execution_count": null,
      "outputs": []
    },
    {
      "cell_type": "code",
      "source": [
        "import numpy as np\n",
        "import pandas as pd\n",
        "import json\n",
        "from datasets import load_dataset"
      ],
      "metadata": {
        "execution": {
          "iopub.status.busy": "2024-03-02T16:23:53.995224Z",
          "iopub.execute_input": "2024-03-02T16:23:53.995604Z",
          "iopub.status.idle": "2024-03-02T16:23:56.941795Z",
          "shell.execute_reply.started": "2024-03-02T16:23:53.995556Z",
          "shell.execute_reply": "2024-03-02T16:23:56.940728Z"
        },
        "trusted": true,
        "id": "aI-TWL-vJR5X"
      },
      "execution_count": null,
      "outputs": []
    },
    {
      "cell_type": "markdown",
      "source": [
        "# Load dataset to DataFrame"
      ],
      "metadata": {
        "id": "krtf8KqSJR5X"
      }
    },
    {
      "cell_type": "code",
      "source": [
        "#Load file in directory into variable lst20\n",
        "lst20 = load_dataset(\"lst20\", data_dir=\"/kaggle/input/lst20-thai/LST20_Corpus\")\n",
        "lst20"
      ],
      "metadata": {
        "execution": {
          "iopub.status.busy": "2024-03-01T15:29:54.786895Z",
          "iopub.execute_input": "2024-03-01T15:29:54.788086Z",
          "iopub.status.idle": "2024-03-01T15:31:08.428122Z",
          "shell.execute_reply.started": "2024-03-01T15:29:54.788039Z",
          "shell.execute_reply": "2024-03-01T15:31:08.427103Z"
        },
        "trusted": true,
        "id": "_Rf89ft3JR5Y"
      },
      "execution_count": null,
      "outputs": []
    },
    {
      "cell_type": "code",
      "source": [
        "#Convert to dataFrame\n",
        "train_df = pd.DataFrame(lst20['train'])\n",
        "validation_df = pd.DataFrame(lst20['validation'])\n",
        "test_df = pd.DataFrame(lst20['test'])\n",
        "train_df.head(3)"
      ],
      "metadata": {
        "execution": {
          "iopub.status.busy": "2024-03-01T15:31:36.878393Z",
          "iopub.execute_input": "2024-03-01T15:31:36.879087Z",
          "iopub.status.idle": "2024-03-01T15:31:58.464134Z",
          "shell.execute_reply.started": "2024-03-01T15:31:36.879052Z",
          "shell.execute_reply": "2024-03-01T15:31:58.463127Z"
        },
        "trusted": true,
        "id": "OEHF_AybJR5Y"
      },
      "execution_count": null,
      "outputs": []
    },
    {
      "cell_type": "code",
      "source": [
        "train_df = train_df[['id', 'tokens', 'ner_tags']]\n",
        "validation_df = validation_df[['id', 'tokens', 'ner_tags']]\n",
        "test_df = test_df[['id', 'tokens', 'ner_tags']]\n",
        "train_df"
      ],
      "metadata": {
        "execution": {
          "iopub.status.busy": "2024-03-01T15:32:08.220466Z",
          "iopub.execute_input": "2024-03-01T15:32:08.221159Z",
          "iopub.status.idle": "2024-03-01T15:32:08.279761Z",
          "shell.execute_reply.started": "2024-03-01T15:32:08.221123Z",
          "shell.execute_reply": "2024-03-01T15:32:08.278771Z"
        },
        "trusted": true,
        "id": "-6i_vr0EJR5Y"
      },
      "execution_count": null,
      "outputs": []
    },
    {
      "cell_type": "code",
      "source": [
        "# # Sorting NER Tags start from O, B, I, and E\n",
        "# ner_list = [item.strip().strip(\" '\") for item in ner_list.strip(\"[]\\n\").split(\",\")]\n",
        "# O_list = [item for item in ner_list if item.startswith(\"O\")]\n",
        "# B_list = [item for item in ner_list if item.startswith(\"B_\")]\n",
        "# I_list = [item for item in ner_list if item.startswith(\"I_\")]\n",
        "# E_list = [item for item in ner_list if item.startswith(\"E_\")]\n",
        "# #Sort start from O,B_,I_,E_\n",
        "# NER_TAGS = O_list + B_list + I_list + E_list\n",
        "# print(NER_TAGS)"
      ],
      "metadata": {
        "trusted": true,
        "id": "GBbEFm8kJR5Z"
      },
      "execution_count": null,
      "outputs": []
    },
    {
      "cell_type": "code",
      "source": [
        "# Define Ner Tags replace missing ne_list.txt\n",
        "NER_TAGS = [\n",
        "       \"O\",\n",
        "        \"B_BRN\", \"B_DES\", \"B_DTM\", \"B_LOC\", \"B_MEA\", \"B_NUM\", \"B_ORG\", \"B_PER\", \"B_TRM\", \"B_TTL\",\n",
        "       \"I_BRN\", \"I_DES\", \"I_DTM\", \"I_LOC\", \"I_MEA\", \"I_NUM\", \"I_ORG\", \"I_PER\", \"I_TRM\", \"I_TTL\",\n",
        "        \"E_BRN\", \"E_DES\", \"E_DTM\",  \"E_LOC\", \"E_MEA\", \"E_NUM\", \"E_ORG\", \"E_PER\", \"E_TRM\", \"E_TTL\",\n",
        "        \"B_NAME\"]\n",
        "print(NER_TAGS)"
      ],
      "metadata": {
        "execution": {
          "iopub.status.busy": "2024-03-01T15:32:26.890549Z",
          "iopub.execute_input": "2024-03-01T15:32:26.890962Z",
          "iopub.status.idle": "2024-03-01T15:32:26.897501Z",
          "shell.execute_reply.started": "2024-03-01T15:32:26.890932Z",
          "shell.execute_reply": "2024-03-01T15:32:26.896626Z"
        },
        "trusted": true,
        "id": "nXGaBii8JR5Z"
      },
      "execution_count": null,
      "outputs": []
    },
    {
      "cell_type": "markdown",
      "source": [
        "# Simpletransformers Data Formats"
      ],
      "metadata": {
        "id": "iO2mzo_UJR5Z"
      }
    },
    {
      "cell_type": "code",
      "source": [
        "#Code NER Tags mapping\n",
        "#[sentenceid][token]\n",
        "print(train_df['ner_tags'][0][0])\n",
        "print(NER_TAGS[train_df['ner_tags'][0][0]])"
      ],
      "metadata": {
        "execution": {
          "iopub.status.busy": "2024-03-01T15:32:31.105887Z",
          "iopub.execute_input": "2024-03-01T15:32:31.106604Z",
          "iopub.status.idle": "2024-03-01T15:32:31.113551Z",
          "shell.execute_reply.started": "2024-03-01T15:32:31.106572Z",
          "shell.execute_reply": "2024-03-01T15:32:31.112514Z"
        },
        "trusted": true,
        "id": "Qk1Hy6boJR5Z"
      },
      "execution_count": null,
      "outputs": []
    },
    {
      "cell_type": "code",
      "source": [
        "#Simple Transformer format\n",
        "#Append all word into the same dataFrame\n",
        "#Extract Data form Data Loader\n",
        "def convert_data_to_df(df):\n",
        "  data_df = pd.DataFrame()\n",
        "  sentence_id = []\n",
        "  words = []\n",
        "  labels = []\n",
        "\n",
        "  for sentence in range(len(df)):\n",
        "    for token in range(len(df['tokens'][sentence])):\n",
        "      sentence_id.append(sentence)\n",
        "      words.append(df['tokens'][sentence][token])\n",
        "      labels.append(NER_TAGS[df['ner_tags'][sentence][token]]) #Map 0 to \"O\", 1 to \"B_BRN\"\n",
        "\n",
        "  return pd.DataFrame(\n",
        "      {\"sentence_id\": sentence_id, \"words\": words, \"labels\": labels}\n",
        "  )"
      ],
      "metadata": {
        "execution": {
          "iopub.status.busy": "2024-03-01T15:32:38.21923Z",
          "iopub.execute_input": "2024-03-01T15:32:38.220089Z",
          "iopub.status.idle": "2024-03-01T15:32:38.228072Z",
          "shell.execute_reply.started": "2024-03-01T15:32:38.220052Z",
          "shell.execute_reply": "2024-03-01T15:32:38.226831Z"
        },
        "trusted": true,
        "id": "RhfZWc3yJR5Z"
      },
      "execution_count": null,
      "outputs": []
    },
    {
      "cell_type": "code",
      "source": [
        "train_df.head()"
      ],
      "metadata": {
        "execution": {
          "iopub.status.busy": "2024-03-01T15:32:41.63642Z",
          "iopub.execute_input": "2024-03-01T15:32:41.637285Z",
          "iopub.status.idle": "2024-03-01T15:32:41.657423Z",
          "shell.execute_reply.started": "2024-03-01T15:32:41.637233Z",
          "shell.execute_reply": "2024-03-01T15:32:41.656206Z"
        },
        "trusted": true,
        "id": "9cdJI7p5JR5a"
      },
      "execution_count": null,
      "outputs": []
    },
    {
      "cell_type": "code",
      "source": [
        "train_data = convert_data_to_df(train_df)\n",
        "#Re-process to validate and test dataset\n",
        "eval_data = convert_data_to_df(validation_df )\n",
        "test_data = convert_data_to_df(test_df)\n",
        "train_data.head(10)"
      ],
      "metadata": {
        "execution": {
          "iopub.status.busy": "2024-03-01T15:32:43.54605Z",
          "iopub.execute_input": "2024-03-01T15:32:43.546463Z",
          "iopub.status.idle": "2024-03-01T15:33:51.72027Z",
          "shell.execute_reply.started": "2024-03-01T15:32:43.546431Z",
          "shell.execute_reply": "2024-03-01T15:33:51.719231Z"
        },
        "trusted": true,
        "id": "ATzyFhPnJR5a"
      },
      "execution_count": null,
      "outputs": []
    },
    {
      "cell_type": "code",
      "source": [
        "import logging\n",
        "from simpletransformers.ner import NERModel, NERArgs\n",
        "import torch\n",
        "\n",
        "# Simple Transformer https://simpletransformers.ai/docs/ner-minimal-start/\n",
        "logging.basicConfig(level=logging.INFO)\n",
        "transformers_logger = logging.getLogger(\"transformers\")\n",
        "transformers_logger.setLevel(logging.WARNING)"
      ],
      "metadata": {
        "execution": {
          "iopub.status.busy": "2024-03-01T15:34:11.602414Z",
          "iopub.execute_input": "2024-03-01T15:34:11.602795Z",
          "iopub.status.idle": "2024-03-01T15:34:32.826858Z",
          "shell.execute_reply.started": "2024-03-01T15:34:11.602766Z",
          "shell.execute_reply": "2024-03-01T15:34:32.826138Z"
        },
        "trusted": true,
        "id": "awoMNyJYJR5a"
      },
      "execution_count": null,
      "outputs": []
    },
    {
      "cell_type": "markdown",
      "source": [
        "# Config NER Model"
      ],
      "metadata": {
        "id": "X3uPLVzKJR5a"
      }
    },
    {
      "cell_type": "code",
      "source": [
        "max_seq_length = train_data['words'].str.len().max()\n",
        "print(\"Maximum length in column 'words':\", max_seq_length)"
      ],
      "metadata": {
        "execution": {
          "iopub.status.busy": "2024-03-01T18:48:36.652287Z",
          "iopub.execute_input": "2024-03-01T18:48:36.653194Z",
          "iopub.status.idle": "2024-03-01T18:48:38.430832Z",
          "shell.execute_reply.started": "2024-03-01T18:48:36.653152Z",
          "shell.execute_reply": "2024-03-01T18:48:38.429745Z"
        },
        "trusted": true,
        "id": "dC5hy-5zJR5a"
      },
      "execution_count": null,
      "outputs": []
    },
    {
      "cell_type": "code",
      "source": [
        "# Configure the model\n",
        "# ner_args = NERArgs()\n",
        "# ner_args.train_batch_size = 16 #192 is fit for GPU T4, 512 for A100\n",
        "# ner_args.use_multiprocessing = True\n",
        "# ner_args.evaluate_during_training = True\n",
        "# ner_args.eval_batch_size = 16\n",
        "# ner_args.num_train_epochs = 5\n",
        "# ner_args.overwrite_output_dir = True\n",
        "# ner_args.learning_rate = 1e-4\n",
        "\n",
        "# model = NERModel(\n",
        "#      \"camembert\", # Model Type\n",
        "#      \"airesearch/wangchanberta-base-att-spm-uncased\",  #Ner Pre-trained Model\n",
        "#      args=ner_args, use_cuda=torch.cuda.is_available(), labels=NER_TAGS # Local Config\n",
        "# )"
      ],
      "metadata": {
        "id": "zbRv8PM8JR5a"
      },
      "execution_count": null,
      "outputs": []
    },
    {
      "cell_type": "code",
      "source": [
        "ner_args = NERArgs()\n",
        "ner_args.train_batch_size = 128\n",
        "ner_args.use_multiprocessing = True\n",
        "ner_args.evaluate_during_training = True\n",
        "ner_args.eval_batch_size = 128\n",
        "ner_args.num_train_epochs = 10\n",
        "ner_args.overwrite_output_dir = True\n",
        "ner_args.learning_rate = 1e-4\n",
        "\n",
        "model = NERModel(\n",
        "     \"roberta\",\n",
        "     \"xlm-roberta-base\",\n",
        "     args=ner_args, use_cuda=torch.cuda.is_available(), labels=NER_TAGS\n",
        ")"
      ],
      "metadata": {
        "id": "2G4JenAhJR5a"
      },
      "execution_count": null,
      "outputs": []
    },
    {
      "cell_type": "code",
      "source": [
        "import torch\n",
        "torch.cuda.empty_cache()\n",
        "!rm -r /kaggle/working/*"
      ],
      "metadata": {
        "execution": {
          "iopub.status.busy": "2024-03-01T19:48:55.010349Z",
          "iopub.execute_input": "2024-03-01T19:48:55.011327Z",
          "iopub.status.idle": "2024-03-01T19:48:57.637689Z",
          "shell.execute_reply.started": "2024-03-01T19:48:55.011289Z",
          "shell.execute_reply": "2024-03-01T19:48:57.636288Z"
        },
        "trusted": true,
        "id": "ME90UyDfJR5a"
      },
      "execution_count": null,
      "outputs": []
    },
    {
      "cell_type": "code",
      "source": [
        "# train nannnn makmakkk\n",
        "# model.train_model(train_data, eval_data=eval_data)"
      ],
      "metadata": {
        "trusted": true,
        "id": "KG90r0NPJR5a"
      },
      "execution_count": null,
      "outputs": []
    },
    {
      "cell_type": "code",
      "source": [
        "# Evaluate the model\n",
        "# result, model_outputs, preds_list = model.eval_model(eval_data)"
      ],
      "metadata": {
        "id": "ua6qQ55nJR5a"
      },
      "execution_count": null,
      "outputs": []
    },
    {
      "cell_type": "code",
      "source": [
        "# print(result)"
      ],
      "metadata": {
        "id": "3WtdP5yaJR5a"
      },
      "execution_count": null,
      "outputs": []
    },
    {
      "cell_type": "markdown",
      "source": [
        "## Save best model"
      ],
      "metadata": {
        "id": "iUfkF_IaJR5a"
      }
    },
    {
      "cell_type": "code",
      "source": [
        "#Copy best model folderinto gdrive folder\n",
        "# !cp -r /content/outputs/best_model /content/drive/MyDrive/colab/hack4/best_model #your destination"
      ],
      "metadata": {
        "id": "R3lX8xn_JR5a"
      },
      "execution_count": null,
      "outputs": []
    },
    {
      "cell_type": "markdown",
      "source": [
        "# Load Data Test"
      ],
      "metadata": {
        "id": "1j-YFbpjJR5b"
      }
    },
    {
      "cell_type": "code",
      "source": [
        "submit_df = pd.read_csv('/kaggle/input/nithan-chadok-name-entity-recognition/sample_submission.csv')\n",
        "test_df = pd.read_csv('/kaggle/input/nithan-chadok-name-entity-recognition/test.csv')\n",
        "test_df.head(20)"
      ],
      "metadata": {
        "execution": {
          "iopub.status.busy": "2024-03-02T11:42:48.278186Z",
          "iopub.execute_input": "2024-03-02T11:42:48.279096Z",
          "iopub.status.idle": "2024-03-02T11:42:48.366051Z",
          "shell.execute_reply.started": "2024-03-02T11:42:48.279057Z",
          "shell.execute_reply": "2024-03-02T11:42:48.365032Z"
        },
        "trusted": true,
        "id": "FXz6nbS8JR5b"
      },
      "execution_count": null,
      "outputs": []
    },
    {
      "cell_type": "code",
      "source": [
        "NER_TAGS = [\n",
        "       \"O\",\n",
        "        \"B_BRN\",\"B_DES\",\"B_DTM\",\"B_LOC\",\"B_MEA\",\"B_NUM\",\"B_ORG\",\"B_PER\",\"B_TRM\",\"B_TTL\",\n",
        "       \"I_BRN\",\"I_DES\",\"I_DTM\",\"I_LOC\",\"I_MEA\",\"I_NUM\",\"I_ORG\",\"I_PER\",\"I_TRM\",\"I_TTL\",\n",
        "        \"E_BRN\",\"E_DES\",\"E_DTM\",\"E_LOC\",\"E_MEA\",\"E_NUM\",\"E_ORG\",\"E_PER\",\"E_TRM\",\"E_TTL\"]\n",
        "len(NER_TAGS)"
      ],
      "metadata": {
        "execution": {
          "iopub.status.busy": "2024-03-02T11:42:51.438405Z",
          "iopub.execute_input": "2024-03-02T11:42:51.43876Z",
          "iopub.status.idle": "2024-03-02T11:42:51.448451Z",
          "shell.execute_reply.started": "2024-03-02T11:42:51.438732Z",
          "shell.execute_reply": "2024-03-02T11:42:51.447552Z"
        },
        "trusted": true,
        "id": "GdFBjNnAJR5b"
      },
      "execution_count": null,
      "outputs": []
    },
    {
      "cell_type": "code",
      "source": [
        "txt = []\n",
        "for i in test_df['word']:\n",
        "    txt.append(i)"
      ],
      "metadata": {
        "execution": {
          "iopub.status.busy": "2024-03-02T11:42:57.654882Z",
          "iopub.execute_input": "2024-03-02T11:42:57.655621Z",
          "iopub.status.idle": "2024-03-02T11:42:57.677502Z",
          "shell.execute_reply.started": "2024-03-02T11:42:57.655588Z",
          "shell.execute_reply": "2024-03-02T11:42:57.676606Z"
        },
        "trusted": true,
        "id": "9giYnuNAJR5b"
      },
      "execution_count": null,
      "outputs": []
    },
    {
      "cell_type": "code",
      "source": [
        "txt[:20]"
      ],
      "metadata": {
        "execution": {
          "iopub.status.busy": "2024-03-02T11:43:00.791939Z",
          "iopub.execute_input": "2024-03-02T11:43:00.792641Z",
          "iopub.status.idle": "2024-03-02T11:43:00.798435Z",
          "shell.execute_reply.started": "2024-03-02T11:43:00.792611Z",
          "shell.execute_reply": "2024-03-02T11:43:00.797574Z"
        },
        "trusted": true,
        "id": "ncNKa-PoJR5b"
      },
      "execution_count": null,
      "outputs": []
    },
    {
      "cell_type": "code",
      "source": [
        "# Sentence Tokenizer every 20 words\n",
        "def split_into_sentences(tokens, tokens_per_sentence=50):\n",
        "    sentences = []\n",
        "    for i in range(0, len(tokens), tokens_per_sentence):\n",
        "        sentence = tokens[i:i+tokens_per_sentence]\n",
        "        sentences.append(sentence)\n",
        "    return sentences\n",
        "\n",
        "# try 15 > 225 > 50"
      ],
      "metadata": {
        "execution": {
          "iopub.status.busy": "2024-03-02T12:07:18.907226Z",
          "iopub.execute_input": "2024-03-02T12:07:18.907852Z",
          "iopub.status.idle": "2024-03-02T12:07:18.913028Z",
          "shell.execute_reply.started": "2024-03-02T12:07:18.907823Z",
          "shell.execute_reply": "2024-03-02T12:07:18.91208Z"
        },
        "trusted": true,
        "id": "Bx5HjRedJR5b"
      },
      "execution_count": null,
      "outputs": []
    },
    {
      "cell_type": "code",
      "source": [
        "my_token = split_into_sentences(txt)\n",
        "len(my_token)"
      ],
      "metadata": {
        "execution": {
          "iopub.status.busy": "2024-03-02T12:07:21.043785Z",
          "iopub.execute_input": "2024-03-02T12:07:21.044617Z",
          "iopub.status.idle": "2024-03-02T12:07:21.051464Z",
          "shell.execute_reply.started": "2024-03-02T12:07:21.044584Z",
          "shell.execute_reply": "2024-03-02T12:07:21.050566Z"
        },
        "trusted": true,
        "id": "x7MQlNr1JR5b"
      },
      "execution_count": null,
      "outputs": []
    },
    {
      "cell_type": "markdown",
      "source": [
        "# Prediction by WangchanBERTa-LST20"
      ],
      "metadata": {
        "id": "y3zHVnBSJR5b"
      }
    },
    {
      "cell_type": "code",
      "source": [
        "# Test Model\n",
        "import torch\n",
        "from simpletransformers.ner import NERModel, NERArgs\n",
        "\n",
        "ner_args = NERArgs()\n",
        "ner_args.eval_batch_size = 8\n",
        "ner_args.use_multiprocessing = True\n",
        "ner_args.max_seq_length = 510 # Fixed Requirement ##############################\n",
        "model = NERModel(\n",
        "     \"auto\", \"thanaphatt1/WangchanBERTa-LST20\", args=ner_args, use_cuda=torch.cuda.is_available(), labels= NER_TAGS  # your latest model\n",
        ")"
      ],
      "metadata": {
        "execution": {
          "iopub.status.busy": "2024-03-02T12:07:38.749483Z",
          "iopub.execute_input": "2024-03-02T12:07:38.749831Z",
          "iopub.status.idle": "2024-03-02T12:07:39.44442Z",
          "shell.execute_reply.started": "2024-03-02T12:07:38.749804Z",
          "shell.execute_reply": "2024-03-02T12:07:39.443454Z"
        },
        "trusted": true,
        "id": "K1lTdyofJR5b"
      },
      "execution_count": null,
      "outputs": []
    },
    {
      "cell_type": "code",
      "source": [
        "# Make predictions with the model\n",
        "predictions, raw_outputs = model.predict(my_token, False)"
      ],
      "metadata": {
        "execution": {
          "iopub.status.busy": "2024-03-02T12:07:44.760264Z",
          "iopub.execute_input": "2024-03-02T12:07:44.760632Z",
          "iopub.status.idle": "2024-03-02T12:08:14.611415Z",
          "shell.execute_reply.started": "2024-03-02T12:07:44.760604Z",
          "shell.execute_reply": "2024-03-02T12:08:14.610443Z"
        },
        "trusted": true,
        "id": "TfSd8SLKJR5b"
      },
      "execution_count": null,
      "outputs": []
    },
    {
      "cell_type": "code",
      "source": [
        "#Check result sentence\n",
        "len(predictions)"
      ],
      "metadata": {
        "execution": {
          "iopub.status.busy": "2024-03-02T12:08:16.786653Z",
          "iopub.execute_input": "2024-03-02T12:08:16.78744Z",
          "iopub.status.idle": "2024-03-02T12:08:16.79371Z",
          "shell.execute_reply.started": "2024-03-02T12:08:16.787403Z",
          "shell.execute_reply": "2024-03-02T12:08:16.792827Z"
        },
        "trusted": true,
        "id": "FaJMGu3mJR5b"
      },
      "execution_count": null,
      "outputs": []
    },
    {
      "cell_type": "code",
      "source": [
        "#Check result data and type\n",
        "predictions[0]"
      ],
      "metadata": {
        "execution": {
          "iopub.status.busy": "2024-03-02T12:08:20.650686Z",
          "iopub.execute_input": "2024-03-02T12:08:20.651348Z",
          "iopub.status.idle": "2024-03-02T12:08:20.659271Z",
          "shell.execute_reply.started": "2024-03-02T12:08:20.651317Z",
          "shell.execute_reply": "2024-03-02T12:08:20.658333Z"
        },
        "trusted": true,
        "id": "sKb3tb5wJR5b"
      },
      "execution_count": null,
      "outputs": []
    },
    {
      "cell_type": "code",
      "source": [
        "tag_df = pd.read_csv('/kaggle/input/nithan-chadok-name-entity-recognition/tag_list.csv')\n",
        "tag_df"
      ],
      "metadata": {
        "execution": {
          "iopub.status.busy": "2024-03-02T12:09:19.863065Z",
          "iopub.execute_input": "2024-03-02T12:09:19.863771Z",
          "iopub.status.idle": "2024-03-02T12:09:19.880241Z",
          "shell.execute_reply.started": "2024-03-02T12:09:19.86374Z",
          "shell.execute_reply": "2024-03-02T12:09:19.879231Z"
        },
        "trusted": true,
        "id": "Q7UWyGMhJR5b"
      },
      "execution_count": null,
      "outputs": []
    },
    {
      "cell_type": "code",
      "source": [
        "#Extract data value from dict list\n",
        "final_test_df = []\n",
        "\n",
        "for i in predictions:\n",
        "    for j in i:\n",
        "        for k in j.values():\n",
        "            result = tag_df[tag_df['tag'] == k]['class'].values[0]\n",
        "            final_test_df.append(result)"
      ],
      "metadata": {
        "execution": {
          "iopub.status.busy": "2024-03-02T12:09:47.443387Z",
          "iopub.execute_input": "2024-03-02T12:09:47.444388Z",
          "iopub.status.idle": "2024-03-02T12:10:10.079362Z",
          "shell.execute_reply.started": "2024-03-02T12:09:47.444353Z",
          "shell.execute_reply": "2024-03-02T12:10:10.07852Z"
        },
        "trusted": true,
        "id": "3snujOnSJR5e"
      },
      "execution_count": null,
      "outputs": []
    },
    {
      "cell_type": "code",
      "source": [
        "#print result\n",
        "print(len(final_test_df))"
      ],
      "metadata": {
        "execution": {
          "iopub.status.busy": "2024-03-02T12:10:12.892294Z",
          "iopub.execute_input": "2024-03-02T12:10:12.893038Z",
          "iopub.status.idle": "2024-03-02T12:10:12.897639Z",
          "shell.execute_reply.started": "2024-03-02T12:10:12.893007Z",
          "shell.execute_reply": "2024-03-02T12:10:12.896707Z"
        },
        "trusted": true,
        "id": "dbRrEZ5gJR5f"
      },
      "execution_count": null,
      "outputs": []
    },
    {
      "cell_type": "code",
      "source": [
        "final_result = pd.DataFrame(final_test_df)\n",
        "submit_df['pred'] = final_result\n",
        "submit_df"
      ],
      "metadata": {
        "execution": {
          "iopub.status.busy": "2024-03-02T12:10:17.119806Z",
          "iopub.execute_input": "2024-03-02T12:10:17.120188Z",
          "iopub.status.idle": "2024-03-02T12:10:17.340018Z",
          "shell.execute_reply.started": "2024-03-02T12:10:17.120152Z",
          "shell.execute_reply": "2024-03-02T12:10:17.339068Z"
        },
        "trusted": true,
        "id": "KAsxis64JR5f"
      },
      "execution_count": null,
      "outputs": []
    },
    {
      "cell_type": "code",
      "source": [
        "submit_df[submit_df['pred'].isnull()==True]"
      ],
      "metadata": {
        "execution": {
          "iopub.status.busy": "2024-03-02T12:10:20.048891Z",
          "iopub.execute_input": "2024-03-02T12:10:20.049533Z",
          "iopub.status.idle": "2024-03-02T12:10:20.058738Z",
          "shell.execute_reply.started": "2024-03-02T12:10:20.049499Z",
          "shell.execute_reply": "2024-03-02T12:10:20.057832Z"
        },
        "trusted": true,
        "id": "AY_Ww28UJR5f"
      },
      "execution_count": null,
      "outputs": []
    },
    {
      "cell_type": "code",
      "source": [
        "thanapat_15 = pd.read_csv('/kaggle/input/thanapat-berta-15/wangchan_berta_15.csv')\n",
        "compare = pd.concat([submit_df['i'], submit_df['pred'], thanapat_15['pred']], axis=1)\n",
        "compare.columns=['i','50','15']\n",
        "compare[compare['50'] != compare['15']]"
      ],
      "metadata": {
        "execution": {
          "iopub.status.busy": "2024-03-02T12:10:32.113894Z",
          "iopub.execute_input": "2024-03-02T12:10:32.114689Z",
          "iopub.status.idle": "2024-03-02T12:10:32.142811Z",
          "shell.execute_reply.started": "2024-03-02T12:10:32.114658Z",
          "shell.execute_reply": "2024-03-02T12:10:32.141804Z"
        },
        "trusted": true,
        "id": "Zzl9Xo_xJR5f"
      },
      "execution_count": null,
      "outputs": []
    },
    {
      "cell_type": "code",
      "source": [
        "#Save result file to CSV\n",
        "submit_df.to_csv('thanapatt_wangchan_50.csv',index=False)"
      ],
      "metadata": {
        "execution": {
          "iopub.status.busy": "2024-03-02T12:10:52.077986Z",
          "iopub.execute_input": "2024-03-02T12:10:52.07873Z",
          "iopub.status.idle": "2024-03-02T12:10:52.157109Z",
          "shell.execute_reply.started": "2024-03-02T12:10:52.078696Z",
          "shell.execute_reply": "2024-03-02T12:10:52.156268Z"
        },
        "trusted": true,
        "id": "Nf9nH_VOJR5f"
      },
      "execution_count": null,
      "outputs": []
    },
    {
      "cell_type": "markdown",
      "source": [
        "## ensemble"
      ],
      "metadata": {
        "id": "GudCpdaJJR5f"
      }
    },
    {
      "cell_type": "code",
      "source": [
        "thanapat_15 = pd.read_csv('/kaggle/input/thanapat-berta-15/wangchan_berta_15.csv')\n",
        "thanapat_225 = pd.read_csv('/kaggle/input/thanapat-wang225/thanapatt_wangchan_225.csv')\n",
        "# thanapat_50 = pd.read_csv('/kaggle/working/thanapatt_wangchan_50.csv')\n",
        "robert_boss = pd.read_csv('/kaggle/input/roberta-xml/RobertaXML_1e5_epochs10_split254.csv')"
      ],
      "metadata": {
        "execution": {
          "iopub.status.busy": "2024-03-02T16:26:53.09819Z",
          "iopub.execute_input": "2024-03-02T16:26:53.098617Z",
          "iopub.status.idle": "2024-03-02T16:26:53.181947Z",
          "shell.execute_reply.started": "2024-03-02T16:26:53.098563Z",
          "shell.execute_reply": "2024-03-02T16:26:53.179015Z"
        },
        "trusted": true,
        "id": "iQEHMuX7JR5f"
      },
      "execution_count": null,
      "outputs": []
    },
    {
      "cell_type": "code",
      "source": [
        "df_ensemble = pd.concat([thanapat_15,thanapat_225,robert_boss])\n",
        "df_ensemble = df_ensemble.groupby(\"i\")[\"pred\"].apply(lambda x: x.mode()[0]).reset_index()\n",
        "df_ensemble"
      ],
      "metadata": {
        "execution": {
          "iopub.status.busy": "2024-03-02T16:27:07.128778Z",
          "iopub.execute_input": "2024-03-02T16:27:07.12916Z",
          "iopub.status.idle": "2024-03-02T16:27:16.435439Z",
          "shell.execute_reply.started": "2024-03-02T16:27:07.12913Z",
          "shell.execute_reply": "2024-03-02T16:27:16.434336Z"
        },
        "trusted": true,
        "id": "qv_-63osJR5f"
      },
      "execution_count": null,
      "outputs": []
    },
    {
      "cell_type": "code",
      "source": [
        "compare = pd.concat([df_ensemble['i'], df_ensemble['pred'], thanapat_15['pred'], robert_boss['pred']], axis=1)\n",
        "compare.columns=['i','ens','th_15','boss']\n",
        "compare[compare['ens'] != compare['th_15']]"
      ],
      "metadata": {
        "execution": {
          "iopub.status.busy": "2024-03-02T16:29:27.180661Z",
          "iopub.execute_input": "2024-03-02T16:29:27.181032Z",
          "iopub.status.idle": "2024-03-02T16:29:27.199247Z",
          "shell.execute_reply.started": "2024-03-02T16:29:27.181004Z",
          "shell.execute_reply": "2024-03-02T16:29:27.198046Z"
        },
        "trusted": true,
        "id": "R9aFji0KJR5f"
      },
      "execution_count": null,
      "outputs": []
    },
    {
      "cell_type": "code",
      "source": [
        "compare[compare['ens'] != compare['boss']]"
      ],
      "metadata": {
        "execution": {
          "iopub.status.busy": "2024-03-02T16:30:11.037131Z",
          "iopub.execute_input": "2024-03-02T16:30:11.037525Z",
          "iopub.status.idle": "2024-03-02T16:30:11.051757Z",
          "shell.execute_reply.started": "2024-03-02T16:30:11.037494Z",
          "shell.execute_reply": "2024-03-02T16:30:11.050651Z"
        },
        "trusted": true,
        "id": "5icR9HYcJR5f"
      },
      "execution_count": null,
      "outputs": []
    },
    {
      "cell_type": "code",
      "source": [
        "df_ensemble.to_csv('ensemble_15_255_boss.csv',index=False)"
      ],
      "metadata": {
        "execution": {
          "iopub.status.busy": "2024-03-02T16:31:58.734009Z",
          "iopub.execute_input": "2024-03-02T16:31:58.734512Z",
          "iopub.status.idle": "2024-03-02T16:31:58.806872Z",
          "shell.execute_reply.started": "2024-03-02T16:31:58.734469Z",
          "shell.execute_reply": "2024-03-02T16:31:58.805552Z"
        },
        "trusted": true,
        "id": "q569Zr2mJR5f"
      },
      "execution_count": null,
      "outputs": []
    },
    {
      "cell_type": "markdown",
      "source": [
        "# Prediction by airesearch_wangchan"
      ],
      "metadata": {
        "id": "X3cuvJy6JR5f"
      }
    },
    {
      "cell_type": "code",
      "source": [
        "# Test Model\n",
        "ner_args = NERArgs()\n",
        "ner_args.eval_batch_size = 8\n",
        "ner_args.use_multiprocessing = True\n",
        "# ner_args.max_seq_length = 500 # Fixed Requirement ##############################\n",
        "model = NERModel(\n",
        "     \"camembert\", \"airesearch/wangchanberta-base-att-spm-uncased\", args=ner_args, use_cuda=torch.cuda.is_available(), labels= NER_TAGS  # your latest model\n",
        ")"
      ],
      "metadata": {
        "execution": {
          "iopub.status.busy": "2024-03-01T20:06:17.333186Z",
          "iopub.execute_input": "2024-03-01T20:06:17.334092Z",
          "iopub.status.idle": "2024-03-01T20:06:17.912092Z",
          "shell.execute_reply.started": "2024-03-01T20:06:17.334059Z",
          "shell.execute_reply": "2024-03-01T20:06:17.909928Z"
        },
        "trusted": true,
        "id": "81SSvDyjJR5g"
      },
      "execution_count": null,
      "outputs": []
    },
    {
      "cell_type": "code",
      "source": [
        "# Make predictions with the model\n",
        "predictions, raw_outputs = model.predict(my_token, False)"
      ],
      "metadata": {
        "execution": {
          "iopub.status.busy": "2024-03-01T20:06:41.812809Z",
          "iopub.execute_input": "2024-03-01T20:06:41.813236Z",
          "iopub.status.idle": "2024-03-01T20:07:07.030606Z",
          "shell.execute_reply.started": "2024-03-01T20:06:41.813204Z",
          "shell.execute_reply": "2024-03-01T20:07:07.029559Z"
        },
        "trusted": true,
        "id": "DsBnVyTkJR5g"
      },
      "execution_count": null,
      "outputs": []
    },
    {
      "cell_type": "code",
      "source": [
        "#Check result sentence\n",
        "len(predictions)"
      ],
      "metadata": {
        "execution": {
          "iopub.status.busy": "2024-03-01T20:07:07.292353Z",
          "iopub.execute_input": "2024-03-01T20:07:07.293429Z",
          "iopub.status.idle": "2024-03-01T20:07:07.300545Z",
          "shell.execute_reply.started": "2024-03-01T20:07:07.293362Z",
          "shell.execute_reply": "2024-03-01T20:07:07.299402Z"
        },
        "trusted": true,
        "id": "DNYPPm9NJR5g"
      },
      "execution_count": null,
      "outputs": []
    },
    {
      "cell_type": "code",
      "source": [
        "#Check result data and type\n",
        "predictions[0]"
      ],
      "metadata": {
        "execution": {
          "iopub.status.busy": "2024-03-01T20:07:09.460483Z",
          "iopub.execute_input": "2024-03-01T20:07:09.461438Z",
          "iopub.status.idle": "2024-03-01T20:07:09.468604Z",
          "shell.execute_reply.started": "2024-03-01T20:07:09.461392Z",
          "shell.execute_reply": "2024-03-01T20:07:09.467545Z"
        },
        "trusted": true,
        "id": "RyEfIPZXJR5g"
      },
      "execution_count": null,
      "outputs": []
    },
    {
      "cell_type": "code",
      "source": [
        "tag_df = pd.read_csv('/kaggle/input/nithan-chadok-name-entity-recognition/tag_list.csv')\n",
        "\n",
        "#Extract data value from dict list\n",
        "final_test_df = []\n",
        "\n",
        "for i in predictions:\n",
        "    for j in i:\n",
        "        for k in j.values():\n",
        "            result = tag_df[tag_df['tag'] == k]['class'].values[0]\n",
        "            final_test_df.append(result)"
      ],
      "metadata": {
        "execution": {
          "iopub.status.busy": "2024-03-01T20:07:51.590163Z",
          "iopub.execute_input": "2024-03-01T20:07:51.591064Z",
          "iopub.status.idle": "2024-03-01T20:08:17.712645Z",
          "shell.execute_reply.started": "2024-03-01T20:07:51.591016Z",
          "shell.execute_reply": "2024-03-01T20:08:17.71165Z"
        },
        "trusted": true,
        "id": "tNQl08LWJR5g"
      },
      "execution_count": null,
      "outputs": []
    },
    {
      "cell_type": "code",
      "source": [
        "#print result\n",
        "print(len(final_test_df))"
      ],
      "metadata": {
        "execution": {
          "iopub.status.busy": "2024-03-01T20:08:39.693499Z",
          "iopub.execute_input": "2024-03-01T20:08:39.694332Z",
          "iopub.status.idle": "2024-03-01T20:08:39.700041Z",
          "shell.execute_reply.started": "2024-03-01T20:08:39.694298Z",
          "shell.execute_reply": "2024-03-01T20:08:39.698773Z"
        },
        "trusted": true,
        "id": "NzEZ8UPxJR5g"
      },
      "execution_count": null,
      "outputs": []
    },
    {
      "cell_type": "code",
      "source": [
        "final_result = pd.DataFrame(final_test_df)\n",
        "submit_df['pred'] = final_result\n",
        "submit_df"
      ],
      "metadata": {
        "execution": {
          "iopub.status.busy": "2024-03-01T20:08:45.021156Z",
          "iopub.execute_input": "2024-03-01T20:08:45.02185Z",
          "iopub.status.idle": "2024-03-01T20:08:45.271116Z",
          "shell.execute_reply.started": "2024-03-01T20:08:45.021814Z",
          "shell.execute_reply": "2024-03-01T20:08:45.269834Z"
        },
        "trusted": true,
        "id": "ot07frGeJR5g"
      },
      "execution_count": null,
      "outputs": []
    },
    {
      "cell_type": "code",
      "source": [
        "submit_df[submit_df['pred'] == 0]"
      ],
      "metadata": {
        "execution": {
          "iopub.status.busy": "2024-03-01T20:09:34.461008Z",
          "iopub.execute_input": "2024-03-01T20:09:34.461439Z",
          "iopub.status.idle": "2024-03-01T20:09:34.476093Z",
          "shell.execute_reply.started": "2024-03-01T20:09:34.461408Z",
          "shell.execute_reply": "2024-03-01T20:09:34.4748Z"
        },
        "trusted": true,
        "id": "DvY8LmhMJR5g"
      },
      "execution_count": null,
      "outputs": []
    },
    {
      "cell_type": "code",
      "source": [
        "#Save result file to CSV\n",
        "submit_df.to_csv('airesearch_wangchan_16.csv',index=False)"
      ],
      "metadata": {
        "execution": {
          "iopub.status.busy": "2024-03-01T20:10:17.293789Z",
          "iopub.execute_input": "2024-03-01T20:10:17.294762Z",
          "iopub.status.idle": "2024-03-01T20:10:17.385188Z",
          "shell.execute_reply.started": "2024-03-01T20:10:17.294729Z",
          "shell.execute_reply": "2024-03-01T20:10:17.384103Z"
        },
        "trusted": true,
        "id": "ortvek3bJR5g"
      },
      "execution_count": null,
      "outputs": []
    },
    {
      "cell_type": "markdown",
      "source": [
        "# Baseline code"
      ],
      "metadata": {
        "id": "RXdrfJLnJR5g"
      }
    },
    {
      "cell_type": "code",
      "source": [
        "import pandas as pd\n",
        "from transformers import RobertaTokenizerFast, RobertaForTokenClassification, pipeline\n",
        "# from attacut import tokenize\n",
        "import torch\n",
        "from sklearn.metrics import f1_score"
      ],
      "metadata": {
        "execution": {
          "iopub.status.busy": "2024-03-01T13:59:20.87233Z",
          "iopub.execute_input": "2024-03-01T13:59:20.872758Z",
          "iopub.status.idle": "2024-03-01T13:59:43.6485Z",
          "shell.execute_reply.started": "2024-03-01T13:59:20.872732Z",
          "shell.execute_reply": "2024-03-01T13:59:43.647724Z"
        },
        "trusted": true,
        "id": "r3ul5vHMJR5g"
      },
      "execution_count": null,
      "outputs": []
    },
    {
      "cell_type": "code",
      "source": [
        "sample_submission = pd.read_csv('/kaggle/input/nithan-chadok-name-entity-recognition/sample_submission.csv')\n",
        "df = pd.read_csv('/kaggle/input/nithan-chadok-name-entity-recognition/test.csv')\n",
        "df['pred'] = sample_submission['pred']\n",
        "sample_submission.head()"
      ],
      "metadata": {
        "execution": {
          "iopub.status.busy": "2024-03-01T14:00:06.770319Z",
          "iopub.execute_input": "2024-03-01T14:00:06.77064Z",
          "iopub.status.idle": "2024-03-01T14:00:06.870481Z",
          "shell.execute_reply.started": "2024-03-01T14:00:06.770615Z",
          "shell.execute_reply": "2024-03-01T14:00:06.869562Z"
        },
        "trusted": true,
        "id": "6oPEJeJQJR5g"
      },
      "execution_count": null,
      "outputs": []
    },
    {
      "cell_type": "code",
      "source": [
        "df.head()"
      ],
      "metadata": {
        "execution": {
          "iopub.status.busy": "2024-03-01T14:00:19.38523Z",
          "iopub.execute_input": "2024-03-01T14:00:19.386036Z",
          "iopub.status.idle": "2024-03-01T14:00:19.395482Z",
          "shell.execute_reply.started": "2024-03-01T14:00:19.386005Z",
          "shell.execute_reply": "2024-03-01T14:00:19.394577Z"
        },
        "trusted": true,
        "id": "x2JVdZMbJR5h"
      },
      "execution_count": null,
      "outputs": []
    },
    {
      "cell_type": "code",
      "source": [
        "df['end'] = 0\n",
        "df['start'] = 0\n",
        "all_sentences = []\n",
        "sent = ''\n",
        "for i, row in df.iterrows():\n",
        "    all_sentences.append(str(row['word']).replace(\"_\",\"[!und:]\"))\n",
        "    df.at[i, 'start'] = len(sent)\n",
        "    sent += all_sentences[-1]\n",
        "    df.at[i, 'end'] = len(sent)\n",
        "    sent += ' _ '\n",
        "sentence = ' _ '.join(all_sentences)\n",
        "\n",
        "sentence[:100]"
      ],
      "metadata": {
        "execution": {
          "iopub.status.busy": "2024-03-01T14:08:35.182651Z",
          "iopub.execute_input": "2024-03-01T14:08:35.18337Z",
          "iopub.status.idle": "2024-03-01T14:08:42.336806Z",
          "shell.execute_reply.started": "2024-03-01T14:08:35.183337Z",
          "shell.execute_reply": "2024-03-01T14:08:42.335896Z"
        },
        "trusted": true,
        "id": "cBzc0MzXJR5h"
      },
      "execution_count": null,
      "outputs": []
    },
    {
      "cell_type": "code",
      "source": [
        "tokenizer = RobertaTokenizerFast.from_pretrained(\"lst-nectec/HoogBERTa-NER-lst20\")\n",
        "model = RobertaForTokenClassification.from_pretrained(\"lst-nectec/HoogBERTa-NER-lst20\")"
      ],
      "metadata": {
        "execution": {
          "iopub.status.busy": "2024-03-01T14:01:14.648262Z",
          "iopub.execute_input": "2024-03-01T14:01:14.64908Z",
          "iopub.status.idle": "2024-03-01T14:01:22.475769Z",
          "shell.execute_reply.started": "2024-03-01T14:01:14.649024Z",
          "shell.execute_reply": "2024-03-01T14:01:22.474767Z"
        },
        "trusted": true,
        "id": "OWwArRsNJR5h"
      },
      "execution_count": null,
      "outputs": []
    },
    {
      "cell_type": "code",
      "source": [
        "tag_list = pd.read_csv('/kaggle/input/nithan-chadok-name-entity-recognition/tag_list.csv')\n",
        "tags = {row['tag']:row['class'] for _, row in tag_list.iterrows()}\n",
        "tags"
      ],
      "metadata": {
        "execution": {
          "iopub.status.busy": "2024-03-01T14:01:30.569202Z",
          "iopub.execute_input": "2024-03-01T14:01:30.569847Z",
          "iopub.status.idle": "2024-03-01T14:01:30.583511Z",
          "shell.execute_reply.started": "2024-03-01T14:01:30.569807Z",
          "shell.execute_reply": "2024-03-01T14:01:30.582644Z"
        },
        "trusted": true,
        "id": "uDwmS1umJR5h"
      },
      "execution_count": null,
      "outputs": []
    },
    {
      "cell_type": "code",
      "source": [
        "nlp = pipeline('token-classification', model=model, tokenizer=tokenizer, aggregation_strategy=\"none\")\n",
        "outputs = nlp(sentence)\n",
        "print(outputs)"
      ],
      "metadata": {
        "execution": {
          "iopub.status.busy": "2024-03-01T14:10:32.359209Z",
          "iopub.execute_input": "2024-03-01T14:10:32.359914Z",
          "iopub.status.idle": "2024-03-01T14:10:33.82902Z",
          "shell.execute_reply.started": "2024-03-01T14:10:32.359882Z",
          "shell.execute_reply": "2024-03-01T14:10:33.828091Z"
        },
        "trusted": true,
        "id": "UC35TvABJR5h"
      },
      "execution_count": null,
      "outputs": []
    },
    {
      "cell_type": "code",
      "source": [
        "sent[:100]"
      ],
      "metadata": {
        "execution": {
          "iopub.status.busy": "2024-03-01T14:11:35.288715Z",
          "iopub.execute_input": "2024-03-01T14:11:35.289185Z",
          "iopub.status.idle": "2024-03-01T14:11:35.296477Z",
          "shell.execute_reply.started": "2024-03-01T14:11:35.289148Z",
          "shell.execute_reply": "2024-03-01T14:11:35.29555Z"
        },
        "trusted": true,
        "id": "_GOLTdVGJR5h"
      },
      "execution_count": null,
      "outputs": []
    },
    {
      "cell_type": "code",
      "source": [
        "df.iloc[8]"
      ],
      "metadata": {
        "execution": {
          "iopub.status.busy": "2024-03-01T14:12:50.005994Z",
          "iopub.execute_input": "2024-03-01T14:12:50.006916Z",
          "iopub.status.idle": "2024-03-01T14:12:50.015605Z",
          "shell.execute_reply.started": "2024-03-01T14:12:50.006876Z",
          "shell.execute_reply": "2024-03-01T14:12:50.014686Z"
        },
        "trusted": true,
        "id": "pYJlzNI2JR5h"
      },
      "execution_count": null,
      "outputs": []
    },
    {
      "cell_type": "code",
      "source": [
        "output_dicts = {out['start']: out for out in outputs}\n",
        "output_dicts"
      ],
      "metadata": {
        "execution": {
          "iopub.status.busy": "2024-03-01T14:13:37.118476Z",
          "iopub.execute_input": "2024-03-01T14:13:37.119311Z",
          "iopub.status.idle": "2024-03-01T14:13:37.127906Z",
          "shell.execute_reply.started": "2024-03-01T14:13:37.119278Z",
          "shell.execute_reply": "2024-03-01T14:13:37.126995Z"
        },
        "trusted": true,
        "id": "f6RxWyPtJR5h"
      },
      "execution_count": null,
      "outputs": []
    },
    {
      "cell_type": "code",
      "source": [
        "df['pred'] = 0\n",
        "dummy_word = ''\n",
        "for i, row in df.iterrows():\n",
        "    if row['start'] in output_dicts:\n",
        "        df.at[i, 'pred'] = tags[output_dicts[row['start']]['entity']]\n",
        "        output_dicts.pop(row['start'])\n",
        "    elif str(row['word']).isdigit():\n",
        "        df.at[i, 'pred'] = tags['B_NUM']"
      ],
      "metadata": {
        "execution": {
          "iopub.status.busy": "2024-03-01T14:13:55.139101Z",
          "iopub.execute_input": "2024-03-01T14:13:55.139925Z",
          "iopub.status.idle": "2024-03-01T14:13:58.900561Z",
          "shell.execute_reply.started": "2024-03-01T14:13:55.139891Z",
          "shell.execute_reply": "2024-03-01T14:13:58.899808Z"
        },
        "trusted": true,
        "id": "_im7Ac4LJR5i"
      },
      "execution_count": null,
      "outputs": []
    },
    {
      "cell_type": "code",
      "source": [
        "df.head()"
      ],
      "metadata": {
        "execution": {
          "iopub.status.busy": "2024-03-01T14:14:07.816345Z",
          "iopub.execute_input": "2024-03-01T14:14:07.817031Z",
          "iopub.status.idle": "2024-03-01T14:14:07.826811Z",
          "shell.execute_reply.started": "2024-03-01T14:14:07.817001Z",
          "shell.execute_reply": "2024-03-01T14:14:07.825915Z"
        },
        "trusted": true,
        "id": "fYfUAbGbJR5i"
      },
      "execution_count": null,
      "outputs": []
    },
    {
      "cell_type": "code",
      "source": [
        "df[['i', 'pred']].to_csv('baseline.csv', index=False)"
      ],
      "metadata": {
        "execution": {
          "iopub.status.busy": "2024-03-01T14:14:49.783842Z",
          "iopub.execute_input": "2024-03-01T14:14:49.784204Z",
          "iopub.status.idle": "2024-03-01T14:14:49.865207Z",
          "shell.execute_reply.started": "2024-03-01T14:14:49.784177Z",
          "shell.execute_reply": "2024-03-01T14:14:49.864332Z"
        },
        "trusted": true,
        "id": "NdKoV39wJR5i"
      },
      "execution_count": null,
      "outputs": []
    },
    {
      "cell_type": "code",
      "source": [],
      "metadata": {
        "id": "pnp2qrttJR5i"
      },
      "execution_count": null,
      "outputs": []
    },
    {
      "cell_type": "code",
      "source": [],
      "metadata": {
        "trusted": true,
        "id": "QlGXAB3eJR5i"
      },
      "execution_count": null,
      "outputs": []
    }
  ]
}